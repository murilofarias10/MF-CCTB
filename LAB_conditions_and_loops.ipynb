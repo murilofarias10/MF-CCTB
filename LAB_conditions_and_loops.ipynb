{
  "nbformat": 4,
  "nbformat_minor": 0,
  "metadata": {
    "colab": {
      "provenance": [],
      "authorship_tag": "ABX9TyNml4y0TdbDYL6sJpYRS4LQ",
      "include_colab_link": true
    },
    "kernelspec": {
      "name": "python3",
      "display_name": "Python 3"
    },
    "language_info": {
      "name": "python"
    }
  },
  "cells": [
    {
      "cell_type": "markdown",
      "metadata": {
        "id": "view-in-github",
        "colab_type": "text"
      },
      "source": [
        "<a href=\"https://colab.research.google.com/github/murilofarias10/MF-CCTB/blob/main/LAB_conditions_and_loops.ipynb\" target=\"_parent\"><img src=\"https://colab.research.google.com/assets/colab-badge.svg\" alt=\"Open In Colab\"/></a>"
      ]
    },
    {
      "cell_type": "markdown",
      "source": [
        "https://cognitiveclass.ai/courses/python-for-data-science#about-course"
      ],
      "metadata": {
        "id": "5dYG7aIBdwEj"
      }
    },
    {
      "cell_type": "code",
      "source": [
        "#comentario\n",
        "print('teste\\nsegunda linha')"
      ],
      "metadata": {
        "id": "Ew6_4I-dcne5",
        "outputId": "3c39d299-fa51-484e-a2a1-d7a6cefbc1f9",
        "colab": {
          "base_uri": "https://localhost:8080/"
        }
      },
      "execution_count": 1,
      "outputs": [
        {
          "output_type": "stream",
          "name": "stdout",
          "text": [
            "teste\n",
            "segunda linha\n"
          ]
        }
      ]
    },
    {
      "cell_type": "markdown",
      "source": [
        "\n",
        "''Hello'' string\n",
        " -4 -3 0 1 2 int\n",
        " 21,213 floats\n"
      ],
      "metadata": {
        "id": "VLMz0cYucwj_"
      }
    },
    {
      "cell_type": "code",
      "source": [
        "a = 'texto'\n",
        "b = 1\n",
        "c = 1.458\n",
        "d = True\n",
        "e = False\n",
        "print(type(a))\n",
        "print(type(b))\n",
        "print(type(c))\n",
        "print(type(d))\n",
        "print(type(e))\n",
        "print(bool(1))\n",
        "print(bool(0))\n",
        "print(int(5.458))\n",
        "print(float(2))\n",
        "type(1.1)"
      ],
      "metadata": {
        "id": "r_vVEEJSdQCE",
        "outputId": "7945cfa0-a183-465e-8c96-aa21fd0cc94c",
        "colab": {
          "base_uri": "https://localhost:8080/"
        }
      },
      "execution_count": 17,
      "outputs": [
        {
          "output_type": "stream",
          "name": "stdout",
          "text": [
            "<class 'str'>\n",
            "<class 'int'>\n",
            "<class 'float'>\n",
            "<class 'bool'>\n",
            "<class 'bool'>\n",
            "True\n",
            "False\n",
            "5\n",
            "2.0\n"
          ]
        },
        {
          "output_type": "execute_result",
          "data": {
            "text/plain": [
              "float"
            ]
          },
          "metadata": {},
          "execution_count": 17
        }
      ]
    },
    {
      "cell_type": "code",
      "source": [
        "print(bool(1))\n",
        "bool(1)"
      ],
      "metadata": {
        "id": "CTKQkTLDflEI",
        "outputId": "7c730f4d-889a-4a71-c466-2b4b81f8b43f",
        "colab": {
          "base_uri": "https://localhost:8080/"
        }
      },
      "execution_count": 20,
      "outputs": [
        {
          "output_type": "stream",
          "name": "stdout",
          "text": [
            "True\n"
          ]
        },
        {
          "output_type": "execute_result",
          "data": {
            "text/plain": [
              "True"
            ]
          },
          "metadata": {},
          "execution_count": 20
        }
      ]
    },
    {
      "cell_type": "markdown",
      "source": [
        "Conditions and Loops Lab"
      ],
      "metadata": {
        "id": "ljJD7Z21TqfH"
      }
    },
    {
      "cell_type": "markdown",
      "source": [
        "Lab - Conditions and Branching"
      ],
      "metadata": {
        "id": "HZzYHyZEXVMI"
      }
    },
    {
      "cell_type": "markdown",
      "source": [
        "There are 2 sisters, Annie and Jane, born in 1996 and 1999 respectively. They want to know who was born in a leap year. Write an if-else statement to determine who was born in a leap year.\n",
        "\n",
        "A leap year is one that is divisible by 4"
      ],
      "metadata": {
        "id": "bBZi2SKvXYeK"
      }
    },
    {
      "cell_type": "code",
      "source": [
        "Annie = 1996\n",
        "Jane = 1999\n",
        "\n",
        "if (Annie%4 == 0):\n",
        "    print('Annie was born in a leap year')\n",
        "elif (Jane%4 == 0):\n",
        "    print('Jane was born in a leap year')\n",
        "else:\n",
        "    print('Anyone was born in a leap year')"
      ],
      "metadata": {
        "colab": {
          "base_uri": "https://localhost:8080/"
        },
        "id": "dF4yz6y5XX9G",
        "outputId": "91131018-9e56-42bf-9c59-f4a2036f512e"
      },
      "execution_count": null,
      "outputs": [
        {
          "output_type": "stream",
          "name": "stdout",
          "text": [
            "Annie was born in a leap year\n"
          ]
        }
      ]
    },
    {
      "cell_type": "markdown",
      "source": [
        "2. In a school canteen, children under the age of 9 are only given milk porridge for breakfast. Children from 10 to 14 are given a sandwich, and children from 15 to 17 are given a burger. The canteen master asks the age of the student and gives them breakfast accordingly. Sam's age is 10. Use if-else statement to determine what the canteen master will offer to him."
      ],
      "metadata": {
        "id": "zp7oVUeFgvaz"
      }
    },
    {
      "cell_type": "code",
      "execution_count": null,
      "metadata": {
        "colab": {
          "base_uri": "https://localhost:8080/"
        },
        "id": "k1s6Vh4_TnY3",
        "outputId": "837dd2e1-7bb0-4a01-82ae-94bb7520169b"
      },
      "outputs": [
        {
          "output_type": "stream",
          "name": "stdout",
          "text": [
            "sandwich\n"
          ]
        }
      ],
      "source": [
        "Age = 10\n",
        "if Age <= 9:\n",
        "    print('milk porridge')\n",
        "elif Age >=10 and Age <=14:\n",
        "    print('sandwich')\n",
        "else:\n",
        "    print('burger')"
      ]
    },
    {
      "cell_type": "markdown",
      "source": [
        "Lab - Loops"
      ],
      "metadata": {
        "id": "66Q4KOL5m2lN"
      }
    },
    {
      "cell_type": "markdown",
      "source": [
        "Write a for loop the prints out all the element between -5 and 5 using the range function."
      ],
      "metadata": {
        "id": "NEldabmtnG1u"
      }
    },
    {
      "cell_type": "code",
      "source": [
        "for i in range(-5,6):\n",
        "    print(i)"
      ],
      "metadata": {
        "colab": {
          "base_uri": "https://localhost:8080/"
        },
        "id": "EKPjfZq9m3bR",
        "outputId": "88879d0b-43ae-4137-bff9-f8c0c5c9471c"
      },
      "execution_count": null,
      "outputs": [
        {
          "output_type": "stream",
          "name": "stdout",
          "text": [
            "-5\n",
            "-4\n",
            "-3\n",
            "-2\n",
            "-1\n",
            "0\n",
            "1\n",
            "2\n",
            "3\n",
            "4\n",
            "5\n"
          ]
        }
      ]
    },
    {
      "cell_type": "markdown",
      "source": [
        "Print the elements of the following list: Genres=[ 'rock', 'R&B', 'Soundtrack', 'R&B', 'soul', 'pop'] Make sure you follow Python conventions."
      ],
      "metadata": {
        "id": "i7zJF-o1oEAz"
      }
    },
    {
      "cell_type": "code",
      "source": [
        "Genres=['rock', 'R&B', 'Soundtrack', 'R&B', 'soul', 'pop']\n",
        "for n in range(5):\n",
        "    print(Genres[n])"
      ],
      "metadata": {
        "colab": {
          "base_uri": "https://localhost:8080/"
        },
        "id": "ptWRz_pQoGpD",
        "outputId": "e907be19-f6be-41aa-ff28-3a441e809879"
      },
      "execution_count": null,
      "outputs": [
        {
          "output_type": "stream",
          "name": "stdout",
          "text": [
            "rock\n",
            "R&B\n",
            "Soundtrack\n",
            "R&B\n",
            "soul\n"
          ]
        }
      ]
    },
    {
      "cell_type": "markdown",
      "source": [
        "Write a for loop that prints out the following list: squares=['red', 'yellow', 'green', 'purple', 'blue']"
      ],
      "metadata": {
        "id": "jYThZMd5sl2U"
      }
    },
    {
      "cell_type": "code",
      "source": [
        "squares=['red', 'yellow', 'green', 'purple', 'blue']\n",
        "for i in squares:\n",
        "    print(i)"
      ],
      "metadata": {
        "colab": {
          "base_uri": "https://localhost:8080/"
        },
        "id": "4QHr29CPsIs5",
        "outputId": "37def9bc-b692-4b26-81e2-7cee2df07e71"
      },
      "execution_count": null,
      "outputs": [
        {
          "output_type": "stream",
          "name": "stdout",
          "text": [
            "red\n",
            "yellow\n",
            "green\n",
            "purple\n",
            "blue\n"
          ]
        }
      ]
    },
    {
      "cell_type": "markdown",
      "source": [
        "Write a while loop to display the values of the Rating of an album playlist stored in the list PlayListRatings. If the score is less than 6, exit the loop. The list PlayListRatings is given by: PlayListRatings = [10, 9.5, 10, 8, 7.5, 5, 10, 10]"
      ],
      "metadata": {
        "id": "KT772hlls8lw"
      }
    },
    {
      "cell_type": "code",
      "source": [
        "PlayListRatings = [10, 9.5, 10, 8, 7.5, 5, 10, 10]\n",
        "score = 0\n",
        "while score < len(PlayListRatings):\n",
        "  if score < 6:\n",
        "    print(PlayListRatings[score])\n",
        "    score = score +1\n",
        "  else:\n",
        "    break\n",
        "\n",
        "\n",
        "\n"
      ],
      "metadata": {
        "colab": {
          "base_uri": "https://localhost:8080/"
        },
        "id": "4KHIae3Su-oB",
        "outputId": "4b2a2564-3d89-4071-fa54-3842d9a7393a"
      },
      "execution_count": null,
      "outputs": [
        {
          "output_type": "stream",
          "name": "stdout",
          "text": [
            "10\n",
            "9.5\n",
            "10\n",
            "8\n",
            "7.5\n",
            "5\n"
          ]
        }
      ]
    },
    {
      "cell_type": "code",
      "source": [
        "PlayListRatings = [10, 9.5, 10, 8, 7.5, 5, 10, 10]\n",
        "score = 0\n",
        "\n",
        "while score < 6:\n",
        "    print(PlayListRatings[score])\n",
        "    score+=1\n"
      ],
      "metadata": {
        "colab": {
          "base_uri": "https://localhost:8080/"
        },
        "id": "k7HlON8B0QjX",
        "outputId": "7c8183ef-3256-40f3-d97c-f4a83d3222be"
      },
      "execution_count": null,
      "outputs": [
        {
          "output_type": "stream",
          "name": "stdout",
          "text": [
            "10\n",
            "9.5\n",
            "10\n",
            "8\n",
            "7.5\n",
            "5\n"
          ]
        }
      ]
    },
    {
      "cell_type": "code",
      "source": [
        "PlayListRatings = [10, 9.5, 10, 8, 7.5, 5, 10, 10]\n",
        "for i in PlayListRatings:\n",
        "  if i > 6:\n",
        "    print(i)"
      ],
      "metadata": {
        "colab": {
          "base_uri": "https://localhost:8080/"
        },
        "id": "B2f44Aw72s5A",
        "outputId": "ce674db5-1f78-4f6b-a68c-26dcc016f618"
      },
      "execution_count": null,
      "outputs": [
        {
          "output_type": "stream",
          "name": "stdout",
          "text": [
            "10\n",
            "9.5\n",
            "10\n",
            "8\n",
            "7.5\n",
            "10\n",
            "10\n"
          ]
        }
      ]
    },
    {
      "cell_type": "markdown",
      "source": [
        "Write a while loop to copy the strings 'orange' of the list squares to the list new_squares. Stop and exit the loop if the value on the list is not 'orange':"
      ],
      "metadata": {
        "id": "o6uYR1iT47yM"
      }
    },
    {
      "cell_type": "code",
      "source": [
        "squares=['orange', 'orange', 'purple', 'blue ', 'orange']\n",
        "new_list = []\n",
        "for i in squares:\n",
        "    while i == 'orange':\n",
        "      new_list.append(i)\n",
        "      i=+1\n",
        "\n",
        "\n",
        "print(new_list)\n"
      ],
      "metadata": {
        "colab": {
          "base_uri": "https://localhost:8080/"
        },
        "id": "HQPNF4yD49IY",
        "outputId": "a5c0586d-ba7f-48a3-e3d1-3c6bf55aed56"
      },
      "execution_count": null,
      "outputs": [
        {
          "output_type": "stream",
          "name": "stdout",
          "text": [
            "['orange', 'orange', 'orange']\n"
          ]
        }
      ]
    },
    {
      "cell_type": "code",
      "source": [
        "squares = ['orange', 'orange', 'purple', 'blue ', 'orange']\n",
        "new_squares = []\n",
        "i = 0\n",
        "while(i < len(squares) and squares[i] == 'orange'):\n",
        "    new_squares.append(squares[i])\n",
        "    i+=1\n",
        "\n",
        "\n",
        "print (new_squares)"
      ],
      "metadata": {
        "colab": {
          "base_uri": "https://localhost:8080/"
        },
        "id": "Xi_ZuCIOAz-U",
        "outputId": "4a93842d-f83c-46e8-a407-19d761619f34"
      },
      "execution_count": null,
      "outputs": [
        {
          "output_type": "stream",
          "name": "stdout",
          "text": [
            "['orange', 'orange']\n"
          ]
        }
      ]
    },
    {
      "cell_type": "markdown",
      "source": [
        "Your little brother has just learned multiplication tables in school. Today he has learned tables of 6 and 7. Help him memorise both the tables by printing them using for loop."
      ],
      "metadata": {
        "id": "S1q62TgVCx-f"
      }
    },
    {
      "cell_type": "code",
      "source": [
        "NumberA = 6\n",
        "NumberB = 7\n",
        "\n",
        "print('\\n table of 6')\n",
        "for i in range(0,22):\n",
        "  if i <11:\n",
        "    resultA = NumberA*i\n",
        "    print('6 * %s = %s' %(i, resultA))\n",
        "\n",
        "  elif i == 11:\n",
        "    print('\\n table of 7')\n",
        "\n",
        "  elif i>11:\n",
        "    resultB = (NumberB*(i-12))\n",
        "    print('7 * %s = %s' %(i-12, resultB))"
      ],
      "metadata": {
        "colab": {
          "base_uri": "https://localhost:8080/"
        },
        "id": "iQ7Hno6DCza0",
        "outputId": "64d1c9ff-320e-4126-faf0-06c7d5e25a94"
      },
      "execution_count": null,
      "outputs": [
        {
          "output_type": "stream",
          "name": "stdout",
          "text": [
            "\n",
            " table of 6\n",
            "6 * 0 = 0\n",
            "6 * 1 = 6\n",
            "6 * 2 = 12\n",
            "6 * 3 = 18\n",
            "6 * 4 = 24\n",
            "6 * 5 = 30\n",
            "6 * 6 = 36\n",
            "6 * 7 = 42\n",
            "6 * 8 = 48\n",
            "6 * 9 = 54\n",
            "6 * 10 = 60\n",
            "\n",
            " table of 7\n",
            "7 * 0 = 0\n",
            "7 * 1 = 7\n",
            "7 * 2 = 14\n",
            "7 * 3 = 21\n",
            "7 * 4 = 28\n",
            "7 * 5 = 35\n",
            "7 * 6 = 42\n",
            "7 * 7 = 49\n",
            "7 * 8 = 56\n",
            "7 * 9 = 63\n"
          ]
        }
      ]
    },
    {
      "cell_type": "code",
      "source": [
        "NumberA = 6\n",
        "NumberB = 7\n",
        "\n",
        "print('\\n table of 6')\n",
        "for i in range(0,11):\n",
        "    resultA = NumberA*i\n",
        "    print('6 * %s = %s' %(i, resultA))\n",
        "\n",
        "print('\\n table of 7')\n",
        "for x in range(0,11):\n",
        "    resultB = NumberB*x\n",
        "    print('7 * %s = %s' %(x, resultB))"
      ],
      "metadata": {
        "colab": {
          "base_uri": "https://localhost:8080/"
        },
        "id": "k2zbqkpIGO-Y",
        "outputId": "37fc6ad9-292f-4fb6-cb86-f634a50d8453"
      },
      "execution_count": null,
      "outputs": [
        {
          "output_type": "stream",
          "name": "stdout",
          "text": [
            "\n",
            " table of 6\n",
            "6 * 0 = 0\n",
            "6 * 1 = 6\n",
            "6 * 2 = 12\n",
            "6 * 3 = 18\n",
            "6 * 4 = 24\n",
            "6 * 5 = 30\n",
            "6 * 6 = 36\n",
            "6 * 7 = 42\n",
            "6 * 8 = 48\n",
            "6 * 9 = 54\n",
            "6 * 10 = 60\n",
            "\n",
            " table of 7\n",
            "7 * 0 = 0\n",
            "7 * 1 = 7\n",
            "7 * 2 = 14\n",
            "7 * 3 = 21\n",
            "7 * 4 = 28\n",
            "7 * 5 = 35\n",
            "7 * 6 = 42\n",
            "7 * 7 = 49\n",
            "7 * 8 = 56\n",
            "7 * 9 = 63\n",
            "7 * 10 = 70\n"
          ]
        }
      ]
    },
    {
      "cell_type": "markdown",
      "source": [
        "The following is a list of animals in a National Zoo. Animals = [\"lion\", \"giraffe\", \"gorilla\", \"parrots\", \"crocodile\",\"deer\", \"swan\"]\n",
        "\n",
        "Your brother needs to write an essay on the animals whose names are made of 7 letters. Help him find those animals through a while loop and create a separate list of such animals."
      ],
      "metadata": {
        "id": "UdI8v8l3V5gh"
      }
    },
    {
      "cell_type": "code",
      "source": [
        "animals = [\"lion\", \"giraffe\", \"gorilla\", \"parrots\", \"crocodile\",\"deer\", \"swan\"]\n",
        "x = 0\n",
        "final_list = []\n",
        "others_list = []\n",
        "\n",
        "while x < len(animals):\n",
        "  count = len(animals[x])\n",
        "  if count == 7:\n",
        "    final_list.append(animals[x])\n",
        "  else:\n",
        "    others_list.append(animals[x])\n",
        "  x+=1\n",
        "\n",
        "print(final_list)\n",
        "print(others_list)\n",
        "\n",
        "\n"
      ],
      "metadata": {
        "colab": {
          "base_uri": "https://localhost:8080/"
        },
        "id": "uGWApSwOWMLO",
        "outputId": "f0ceebf6-0d2c-4427-833a-1260bd8df874"
      },
      "execution_count": null,
      "outputs": [
        {
          "output_type": "stream",
          "name": "stdout",
          "text": [
            "['giraffe', 'gorilla', 'parrots']\n",
            "['lion', 'crocodile', 'deer', 'swan']\n"
          ]
        }
      ]
    },
    {
      "cell_type": "code",
      "source": [
        "Animals = [\"lion\", \"giraffe\", \"gorilla\", \"parrots\", \"crocodile\",\"deer\", \"swan\"]\n",
        "New = []\n",
        "i=0\n",
        "while i<len(Animals):\n",
        "    j=Animals[i]\n",
        "    if(len(j)==7):\n",
        "        New.append(j)\n",
        "    i=i+1\n",
        "print(New)"
      ],
      "metadata": {
        "colab": {
          "base_uri": "https://localhost:8080/"
        },
        "id": "Tma4w75NYYft",
        "outputId": "b7c757f9-a7d1-47ee-ceb3-3d3d09ce817e"
      },
      "execution_count": null,
      "outputs": [
        {
          "output_type": "stream",
          "name": "stdout",
          "text": [
            "['giraffe', 'gorilla', 'parrots']\n"
          ]
        }
      ]
    },
    {
      "cell_type": "markdown",
      "source": [
        "![image.png](data:image/png;base64,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)"
      ],
      "metadata": {
        "id": "CxVmX6OAYmIT"
      }
    }
  ]
}