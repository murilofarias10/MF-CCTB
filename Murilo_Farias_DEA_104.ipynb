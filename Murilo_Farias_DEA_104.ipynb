{
  "nbformat": 4,
  "nbformat_minor": 0,
  "metadata": {
    "colab": {
      "provenance": [],
      "authorship_tag": "ABX9TyOI9TtWHrhUKoglqhB531ex",
      "include_colab_link": true
    },
    "kernelspec": {
      "name": "python3",
      "display_name": "Python 3"
    },
    "language_info": {
      "name": "python"
    }
  },
  "cells": [
    {
      "cell_type": "markdown",
      "metadata": {
        "id": "view-in-github",
        "colab_type": "text"
      },
      "source": [
        "<a href=\"https://colab.research.google.com/github/murilofarias10/MF-CCTB/blob/main/Murilo_Farias_DEA_104.ipynb\" target=\"_parent\"><img src=\"https://colab.research.google.com/assets/colab-badge.svg\" alt=\"Open In Colab\"/></a>"
      ]
    },
    {
      "cell_type": "markdown",
      "source": [
        "Lets Learn about Variables:\n",
        "\n",
        "1. Float\n",
        "2. Int\n",
        "3. Boolean / Bool\n",
        "4. String\n",
        "5. Array / List\n",
        "6. Date\n",
        "7. None"
      ],
      "metadata": {
        "id": "cWSmzyn1WPuh"
      }
    },
    {
      "cell_type": "code",
      "execution_count": null,
      "metadata": {
        "colab": {
          "base_uri": "https://localhost:8080/"
        },
        "id": "6j4Xf59mM3fF",
        "outputId": "87e0bf76-519b-497f-f138-40e5b6be376b"
      },
      "outputs": [
        {
          "output_type": "stream",
          "name": "stdout",
          "text": [
            "None\n"
          ]
        }
      ],
      "source": [
        "name = 'Tony'\n",
        "age = 20\n",
        "name = None\n",
        "print(name)"
      ]
    }
  ]
}