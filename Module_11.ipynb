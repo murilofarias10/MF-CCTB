{
  "nbformat": 4,
  "nbformat_minor": 0,
  "metadata": {
    "colab": {
      "provenance": [],
      "authorship_tag": "ABX9TyNpI9Pw4VxE/kAtVmXFjFVK",
      "include_colab_link": true
    },
    "kernelspec": {
      "name": "python3",
      "display_name": "Python 3"
    },
    "language_info": {
      "name": "python"
    }
  },
  "cells": [
    {
      "cell_type": "markdown",
      "metadata": {
        "id": "view-in-github",
        "colab_type": "text"
      },
      "source": [
        "<a href=\"https://colab.research.google.com/github/murilofarias10/MF-CCTB/blob/main/Module_11.ipynb\" target=\"_parent\"><img src=\"https://colab.research.google.com/assets/colab-badge.svg\" alt=\"Open In Colab\"/></a>"
      ]
    },
    {
      "cell_type": "markdown",
      "source": [
        "Murilo Farias\n",
        "2025-02-25\n",
        "Module 11: Errors and Exceptions"
      ],
      "metadata": {
        "id": "R7mm3TQ1EnX_"
      }
    },
    {
      "cell_type": "markdown",
      "source": [
        "Write a program that satisfies the following requirements:\n",
        "\n",
        "Keep asking a user to enter positive integer numbers larger than 0\n",
        "\n",
        "If the user inputs a non-digit character, display the exception error but allow the user to enter again\n",
        "If the user inputs a negative number, display a notification and stop the program immediately\n",
        "If the user inputs a zero number, stop asking for more numbers\n",
        "Display all the numbers entered and their square"
      ],
      "metadata": {
        "id": "Gzm7E3pWEmVu"
      }
    },
    {
      "cell_type": "code",
      "source": [
        "results = [] #start list to add the result\n",
        "squares_results = [] #start list to add the square results\n",
        "\n",
        "while True:\n",
        "    try:\n",
        "        user_input = input(\"Enter positive integer numbers larger than 0: \")\n",
        "        number = int(user_input) #changing for int\n",
        "\n",
        "        if number < 0:\n",
        "            print(\"Cannot enter a negative value, Stoppped\")\n",
        "            validation = 'notOK'\n",
        "            break\n",
        "\n",
        "        elif number == 0:\n",
        "            validation = 'ok'\n",
        "            break\n",
        "\n",
        "        else:\n",
        "            results.append(number)\n",
        "\n",
        "    except ValueError as Value:\n",
        "        print(\"Entered a non-integer value!\")\n",
        "        print(Value)\n",
        "\n",
        "\n",
        "if validation == 'ok':\n",
        "  for i in results:\n",
        "    squares_results.append(i**2)\n",
        "\n",
        "  print(\"The program is done!\")\n",
        "  print(\"User entered: %s\" %results)\n",
        "  print(\"The square of given numbers: %s\" %squares_results)\n"
      ],
      "metadata": {
        "colab": {
          "base_uri": "https://localhost:8080/"
        },
        "id": "PttBgTsPaVEn",
        "outputId": "bdf24d13-649a-45dd-b6a4-4db8f78e7d79"
      },
      "execution_count": 13,
      "outputs": [
        {
          "output_type": "stream",
          "name": "stdout",
          "text": [
            "Enter positive integer numbers larger than 0: 2\n",
            "Enter positive integer numbers larger than 0: a\n",
            "Entered a non-integer value!\n",
            "invalid literal for int() with base 10: 'a'\n",
            "Enter positive integer numbers larger than 0: 3\n",
            "Enter positive integer numbers larger than 0: 0\n",
            "The program is done!\n",
            "User entered: [2, 3]\n",
            "The square of given numbers: [4, 9]\n"
          ]
        }
      ]
    },
    {
      "cell_type": "code",
      "source": [
        "results = [] #start list to add the result\n",
        "squares_results = [] #start list to add the square results\n",
        "\n",
        "while True:\n",
        "    try:\n",
        "        user_input = input(\"Enter positive integer numbers larger than 0: \")\n",
        "        number = int(user_input) #changing for int\n",
        "\n",
        "        if number < 0:\n",
        "            print(\"Cannot enter a negative value, Stoppped\")\n",
        "            validation = 'notOK'\n",
        "            break\n",
        "\n",
        "        elif number == 0:\n",
        "            validation = 'ok'\n",
        "            break\n",
        "\n",
        "        else:\n",
        "            results.append(number)\n",
        "\n",
        "    except ValueError as Value:\n",
        "        print(\"Entered a non-integer value!\")\n",
        "        print(Value)\n",
        "\n",
        "\n",
        "if validation == 'ok':\n",
        "  for i in results:\n",
        "    squares_results.append(i**2)\n",
        "\n",
        "  print(\"The program is done!\")\n",
        "  print(\"User entered: %s\" %results)\n",
        "  print(\"The square of given numbers: %s\" %squares_results)\n"
      ],
      "metadata": {
        "colab": {
          "base_uri": "https://localhost:8080/"
        },
        "id": "4efiHMaSnIqW",
        "outputId": "ad4a53e3-85c2-4ce1-ba38-0230df93e221"
      },
      "execution_count": 14,
      "outputs": [
        {
          "output_type": "stream",
          "name": "stdout",
          "text": [
            "Enter positive integer numbers larger than 0: 1\n",
            "Enter positive integer numbers larger than 0: 2\n",
            "Enter positive integer numbers larger than 0: 3\n",
            "Enter positive integer numbers larger than 0: 0\n",
            "The program is done!\n",
            "User entered: [1, 2, 3]\n",
            "The square of given numbers: [1, 4, 9]\n"
          ]
        }
      ]
    },
    {
      "cell_type": "code",
      "source": [
        "results = [] #start list to add the result\n",
        "squares_results = [] #start list to add the square results\n",
        "\n",
        "while True:\n",
        "    try:\n",
        "        user_input = input(\"Enter positive integer numbers larger than 0: \")\n",
        "        number = int(user_input) #changing for int\n",
        "\n",
        "        if number < 0:\n",
        "            print(\"Cannot enter a negative value, Stoppped\")\n",
        "            validation = 'notOK'\n",
        "            break\n",
        "\n",
        "        elif number == 0:\n",
        "            validation = 'ok'\n",
        "            break\n",
        "\n",
        "        else:\n",
        "            results.append(number)\n",
        "\n",
        "    except ValueError as Value:\n",
        "        print(\"Entered a non-integer value!\")\n",
        "        print(Value)\n",
        "\n",
        "\n",
        "if validation == 'ok':\n",
        "  for i in results:\n",
        "    squares_results.append(i**2)\n",
        "\n",
        "  print(\"The program is done!\")\n",
        "  print(\"User entered: %s\" %results)\n",
        "  print(\"The square of given numbers: %s\" %squares_results)\n"
      ],
      "metadata": {
        "colab": {
          "base_uri": "https://localhost:8080/"
        },
        "id": "cCO_L4AanL-0",
        "outputId": "34706040-8638-4631-f5b5-f01d6e3abe53"
      },
      "execution_count": 15,
      "outputs": [
        {
          "output_type": "stream",
          "name": "stdout",
          "text": [
            "Enter positive integer numbers larger than 0: 1\n",
            "Enter positive integer numbers larger than 0: -1\n",
            "Cannot enter a negative value, Stoppped\n"
          ]
        }
      ]
    }
  ]
}