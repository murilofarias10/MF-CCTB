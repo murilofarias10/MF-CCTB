{
  "nbformat": 4,
  "nbformat_minor": 0,
  "metadata": {
    "colab": {
      "provenance": [],
      "authorship_tag": "ABX9TyOsnZ0vtCvYvwxM3KgsnXMf",
      "include_colab_link": true
    },
    "kernelspec": {
      "name": "python3",
      "display_name": "Python 3"
    },
    "language_info": {
      "name": "python"
    }
  },
  "cells": [
    {
      "cell_type": "markdown",
      "metadata": {
        "id": "view-in-github",
        "colab_type": "text"
      },
      "source": [
        "<a href=\"https://colab.research.google.com/github/murilofarias10/MF-CCTB/blob/main/Module1_Variables.ipynb\" target=\"_parent\"><img src=\"https://colab.research.google.com/assets/colab-badge.svg\" alt=\"Open In Colab\"/></a>"
      ]
    },
    {
      "cell_type": "code",
      "execution_count": null,
      "metadata": {
        "id": "rOjdaTGf99hr"
      },
      "outputs": [],
      "source": [
        "print('Hello, welcome')\n",
        "Name = input('Enter your name: ')\n",
        "Country = input('Enter your contry: ')\n",
        "School = input('Enter your school: ')\n",
        "Location = input('Enter the location of your school: ')\n",
        "print(\"\\n\")\n",
        "print(\"My name is: \" + Name + \", from: \" + Country + \", studying at: \" + School + \" in \" + Location)"
      ]
    },
    {
      "cell_type": "code",
      "source": [
        "FName = 'Murilo'\n",
        "LName = 'Murilox'\n",
        "\n",
        "if FName == LName:\n",
        "  print('Igual')\n",
        "elif len(FName) > len(LName):\n",
        "  print('Maior')\n",
        "else:\n",
        "  print('outro')\n"
      ],
      "metadata": {
        "id": "L018D6GsUKhD",
        "outputId": "5ecdbaf3-9d8d-4b70-b8b0-fc6f728f5bd7",
        "colab": {
          "base_uri": "https://localhost:8080/"
        }
      },
      "execution_count": 15,
      "outputs": [
        {
          "output_type": "stream",
          "name": "stdout",
          "text": [
            "outro\n"
          ]
        }
      ]
    },
    {
      "cell_type": "code",
      "source": [
        "word = 'I live in Vancouver'\n",
        "lenght = 0\n",
        "for c in word:\n",
        "  lenght = lenght+1\n",
        "\n",
        "print(lenght)"
      ],
      "metadata": {
        "id": "Rj8ODvwNT2V0",
        "outputId": "e0c05ffa-3eee-429c-b135-fa65d1eff650",
        "colab": {
          "base_uri": "https://localhost:8080/"
        }
      },
      "execution_count": 3,
      "outputs": [
        {
          "output_type": "stream",
          "name": "stdout",
          "text": [
            "19\n"
          ]
        }
      ]
    },
    {
      "cell_type": "code",
      "source": [
        "lista = [\"A\", \"B\", \"C\"]\n",
        "for x in lista:\n",
        "  print(x)"
      ],
      "metadata": {
        "id": "D5U3i0tLZ8wE",
        "outputId": "cb997d21-9e7a-4290-c4df-b5d17214af45",
        "colab": {
          "base_uri": "https://localhost:8080/"
        }
      },
      "execution_count": 25,
      "outputs": [
        {
          "output_type": "stream",
          "name": "stdout",
          "text": [
            "A\n",
            "B\n",
            "C\n"
          ]
        }
      ]
    }
  ]
}