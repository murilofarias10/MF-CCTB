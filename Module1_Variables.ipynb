{
  "nbformat": 4,
  "nbformat_minor": 0,
  "metadata": {
    "colab": {
      "provenance": [],
      "authorship_tag": "ABX9TyN48EhD/LJ46QHZ54usRYo7",
      "include_colab_link": true
    },
    "kernelspec": {
      "name": "python3",
      "display_name": "Python 3"
    },
    "language_info": {
      "name": "python"
    }
  },
  "cells": [
    {
      "cell_type": "markdown",
      "metadata": {
        "id": "view-in-github",
        "colab_type": "text"
      },
      "source": [
        "<a href=\"https://colab.research.google.com/github/murilofarias10/MF-CCTB/blob/main/Module1_Variables.ipynb\" target=\"_parent\"><img src=\"https://colab.research.google.com/assets/colab-badge.svg\" alt=\"Open In Colab\"/></a>"
      ]
    },
    {
      "cell_type": "code",
      "execution_count": null,
      "metadata": {
        "id": "rOjdaTGf99hr"
      },
      "outputs": [],
      "source": [
        "print('Hello, welcome')\n",
        "Name = input('Enter your name: ')\n",
        "Country = input('Enter your contry: ')\n",
        "School = input('Enter your school: ')\n",
        "Location = input('Enter the location of your school: ')\n",
        "print(\"\\n\")\n",
        "print(\"My name is: \" + Name + \", from: \" + Country + \", studying at: \" + School + \" in \" + Location)"
      ]
    }
  ]
}