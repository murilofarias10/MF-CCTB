{
  "nbformat": 4,
  "nbformat_minor": 0,
  "metadata": {
    "colab": {
      "provenance": [],
      "authorship_tag": "ABX9TyMn0Oo+aMggRL0WlAZEscD7",
      "include_colab_link": true
    },
    "kernelspec": {
      "name": "python3",
      "display_name": "Python 3"
    },
    "language_info": {
      "name": "python"
    }
  },
  "cells": [
    {
      "cell_type": "markdown",
      "metadata": {
        "id": "view-in-github",
        "colab_type": "text"
      },
      "source": [
        "<a href=\"https://colab.research.google.com/github/murilofarias10/MF-CCTB/blob/main/Classes.ipynb\" target=\"_parent\"><img src=\"https://colab.research.google.com/assets/colab-badge.svg\" alt=\"Open In Colab\"/></a>"
      ]
    },
    {
      "cell_type": "markdown",
      "source": [
        "Lets Learn about Variables:\n",
        "\n",
        "1. Float\n",
        "2. Int\n",
        "3. Boolean / Bool\n",
        "4. String\n",
        "5. Array / List\n",
        "6. Date\n",
        "7. None"
      ],
      "metadata": {
        "id": "5ortmgreg0En"
      }
    },
    {
      "cell_type": "code",
      "source": [
        "name = 'Tony'\n",
        "age = 20\n",
        "name = None\n",
        "print(name)"
      ],
      "metadata": {
        "id": "poH05hkvg1Ji",
        "outputId": "6884c5a1-f786-4717-bc74-dc03d9dd7be6",
        "colab": {
          "base_uri": "https://localhost:8080/"
        }
      },
      "execution_count": 26,
      "outputs": [
        {
          "output_type": "stream",
          "name": "stdout",
          "text": [
            "None\n"
          ]
        }
      ]
    },
    {
      "cell_type": "code",
      "execution_count": null,
      "metadata": {
        "id": "rOjdaTGf99hr"
      },
      "outputs": [],
      "source": [
        "print('Hello, welcome')\n",
        "Name = input('Enter your name: ')\n",
        "Country = input('Enter your contry: ')\n",
        "School = input('Enter your school: ')\n",
        "Location = input('Enter the location of your school: ')\n",
        "print(\"\\n\")\n",
        "print(\"My name is: \" + Name + \", from: \" + Country + \", studying at: \" + School + \" in \" + Location)"
      ]
    },
    {
      "cell_type": "code",
      "source": [
        "FName = 'Murilo'\n",
        "LName = 'Murilox'\n",
        "\n",
        "if FName == LName:\n",
        "  print('Igual')\n",
        "elif len(FName) > len(LName):\n",
        "  print('Maior')\n",
        "else:\n",
        "  print('outro')\n"
      ],
      "metadata": {
        "colab": {
          "base_uri": "https://localhost:8080/"
        },
        "id": "L018D6GsUKhD",
        "outputId": "5ecdbaf3-9d8d-4b70-b8b0-fc6f728f5bd7"
      },
      "execution_count": 15,
      "outputs": [
        {
          "output_type": "stream",
          "name": "stdout",
          "text": [
            "outro\n"
          ]
        }
      ]
    },
    {
      "cell_type": "code",
      "source": [
        "word = 'I live in Vancouver'\n",
        "lenght = 0\n",
        "for c in word:\n",
        "  lenght = lenght+1\n",
        "\n",
        "print(lenght)"
      ],
      "metadata": {
        "colab": {
          "base_uri": "https://localhost:8080/"
        },
        "id": "Rj8ODvwNT2V0",
        "outputId": "e0c05ffa-3eee-429c-b135-fa65d1eff650"
      },
      "execution_count": 3,
      "outputs": [
        {
          "output_type": "stream",
          "name": "stdout",
          "text": [
            "19\n"
          ]
        }
      ]
    },
    {
      "cell_type": "code",
      "source": [
        "lista = [\"A\", \"B\", \"C\"]\n",
        "for x in lista:\n",
        "  print(x)"
      ],
      "metadata": {
        "colab": {
          "base_uri": "https://localhost:8080/"
        },
        "id": "D5U3i0tLZ8wE",
        "outputId": "cb997d21-9e7a-4290-c4df-b5d17214af45"
      },
      "execution_count": 25,
      "outputs": [
        {
          "output_type": "stream",
          "name": "stdout",
          "text": [
            "A\n",
            "B\n",
            "C\n"
          ]
        }
      ]
    }
  ]
}