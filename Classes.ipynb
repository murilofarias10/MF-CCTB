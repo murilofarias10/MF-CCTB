{
  "nbformat": 4,
  "nbformat_minor": 0,
  "metadata": {
    "colab": {
      "provenance": [],
      "history_visible": true,
      "authorship_tag": "ABX9TyMYNcpfAuSV8JaQFh8BF0Rd",
      "include_colab_link": true
    },
    "kernelspec": {
      "name": "python3",
      "display_name": "Python 3"
    },
    "language_info": {
      "name": "python"
    }
  },
  "cells": [
    {
      "cell_type": "markdown",
      "metadata": {
        "id": "view-in-github",
        "colab_type": "text"
      },
      "source": [
        "<a href=\"https://colab.research.google.com/github/murilofarias10/MF-CCTB/blob/main/Classes.ipynb\" target=\"_parent\"><img src=\"https://colab.research.google.com/assets/colab-badge.svg\" alt=\"Open In Colab\"/></a>"
      ]
    },
    {
      "cell_type": "markdown",
      "source": [
        "Lets Learn about Variables:\n",
        "\n",
        "1. Float\n",
        "2. Int\n",
        "3. Boolean / Bool\n",
        "4. String\n",
        "5. Array / List\n",
        "6. Date\n",
        "7. None"
      ],
      "metadata": {
        "id": "5ortmgreg0En"
      }
    },
    {
      "cell_type": "code",
      "source": [
        "name = 'Tony'\n",
        "age = 20\n",
        "name = None\n",
        "print(name)"
      ],
      "metadata": {
        "id": "poH05hkvg1Ji",
        "outputId": "6884c5a1-f786-4717-bc74-dc03d9dd7be6",
        "colab": {
          "base_uri": "https://localhost:8080/"
        }
      },
      "execution_count": null,
      "outputs": [
        {
          "output_type": "stream",
          "name": "stdout",
          "text": [
            "None\n"
          ]
        }
      ]
    },
    {
      "cell_type": "code",
      "execution_count": null,
      "metadata": {
        "id": "rOjdaTGf99hr"
      },
      "outputs": [],
      "source": [
        "print('Hello, welcome')\n",
        "Name = input('Enter your name: ')\n",
        "Country = input('Enter your contry: ')\n",
        "School = input('Enter your school: ')\n",
        "Location = input('Enter the location of your school: ')\n",
        "print(\"\\n\")\n",
        "print(\"My name is: \" + Name + \", from: \" + Country + \", studying at: \" + School + \" in \" + Location)"
      ]
    },
    {
      "cell_type": "code",
      "source": [
        "FName = 'Murilo'\n",
        "LName = 'Murilox'\n",
        "\n",
        "if FName == LName:\n",
        "  print('Igual')\n",
        "elif len(FName) > len(LName):\n",
        "  print('Maior')\n",
        "else:\n",
        "  print('outro')\n"
      ],
      "metadata": {
        "colab": {
          "base_uri": "https://localhost:8080/"
        },
        "id": "L018D6GsUKhD",
        "outputId": "5ecdbaf3-9d8d-4b70-b8b0-fc6f728f5bd7"
      },
      "execution_count": null,
      "outputs": [
        {
          "output_type": "stream",
          "name": "stdout",
          "text": [
            "outro\n"
          ]
        }
      ]
    },
    {
      "cell_type": "code",
      "source": [
        "word = 'I live in Vancouver'\n",
        "lenght = 0\n",
        "for c in word:\n",
        "  lenght = lenght+1\n",
        "\n",
        "print(lenght)"
      ],
      "metadata": {
        "colab": {
          "base_uri": "https://localhost:8080/"
        },
        "id": "Rj8ODvwNT2V0",
        "outputId": "e0c05ffa-3eee-429c-b135-fa65d1eff650"
      },
      "execution_count": null,
      "outputs": [
        {
          "output_type": "stream",
          "name": "stdout",
          "text": [
            "19\n"
          ]
        }
      ]
    },
    {
      "cell_type": "code",
      "source": [
        "lista = ['A','B','C']\n",
        "\n",
        "for i in range(0,3):\n",
        "  print('position %s ' % (i))\n",
        "  print(lista[i])\n",
        "print('\\n')\n",
        "lista = ['A','B','C']\n",
        "\n",
        "for i in lista:\n",
        "  print(i)"
      ],
      "metadata": {
        "colab": {
          "base_uri": "https://localhost:8080/"
        },
        "id": "D5U3i0tLZ8wE",
        "outputId": "967167ee-470e-4eed-f33f-cfd2ea2f4d9e"
      },
      "execution_count": null,
      "outputs": [
        {
          "output_type": "stream",
          "name": "stdout",
          "text": [
            "position 0 \n",
            "A\n",
            "position 1 \n",
            "B\n",
            "position 2 \n",
            "C\n",
            "\n",
            "\n",
            "A\n",
            "B\n",
            "C\n"
          ]
        }
      ]
    },
    {
      "cell_type": "code",
      "source": [
        "Genres=['rock', 'R&B', 'Soundtrack', 'R&B', 'soul', 'pop']\n",
        "for i in range(5):\n",
        "    print('O comprimento de: ' + (Genres[i]) + ' é: '+ str(len(Genres[i])))\n"
      ],
      "metadata": {
        "id": "RtYgk6ySq1tx",
        "outputId": "cae9402d-6341-47a6-f794-366091f68a6c",
        "colab": {
          "base_uri": "https://localhost:8080/"
        }
      },
      "execution_count": null,
      "outputs": [
        {
          "output_type": "stream",
          "name": "stdout",
          "text": [
            "O comprimento de: rock é: 4\n",
            "O comprimento de: R&B é: 3\n",
            "O comprimento de: Soundtrack é: 10\n",
            "O comprimento de: R&B é: 3\n",
            "O comprimento de: soul é: 4\n"
          ]
        }
      ]
    },
    {
      "cell_type": "code",
      "source": [
        "Genres=['rock', 'R&B', 'Soundtrack', 'R&B', 'soul', 'pop']\n",
        "for i in range(5):\n",
        "    print('O comprimento de: %s é: %s ' %((Genres[i]),(len(Genres[i]))))"
      ],
      "metadata": {
        "id": "L6QAzJ0bqiAC",
        "outputId": "49e82eb2-1a5a-4db6-f590-4ebc01c695b3",
        "colab": {
          "base_uri": "https://localhost:8080/"
        }
      },
      "execution_count": null,
      "outputs": [
        {
          "output_type": "stream",
          "name": "stdout",
          "text": [
            "O comprimento de: rock é: 4 \n",
            "O comprimento de: R&B é: 3 \n",
            "O comprimento de: Soundtrack é: 10 \n",
            "O comprimento de: R&B é: 3 \n",
            "O comprimento de: soul é: 4 \n"
          ]
        }
      ]
    },
    {
      "cell_type": "markdown",
      "source": [
        "Functions"
      ],
      "metadata": {
        "id": "j9uMIdPyGzTu"
      }
    },
    {
      "cell_type": "code",
      "source": [
        "def function():\n",
        "  print('Hello, world')\n",
        "\n",
        "function()"
      ],
      "metadata": {
        "id": "PL_cbXr9G1QI",
        "outputId": "d0c72f5c-81dc-481b-eff8-79850d452782",
        "colab": {
          "base_uri": "https://localhost:8080/"
        }
      },
      "execution_count": null,
      "outputs": [
        {
          "output_type": "stream",
          "name": "stdout",
          "text": [
            "Hello, world\n"
          ]
        }
      ]
    },
    {
      "cell_type": "code",
      "source": [
        "def function_name(message):\n",
        "  print(message)\n",
        "\n",
        "function_name('Print 1')\n",
        "function_name('Print 2')\n",
        "function_name('Print 3')"
      ],
      "metadata": {
        "id": "lmOK3mcWKLkI",
        "outputId": "463949e2-e1af-4bbb-a5b7-24b6fd99c766",
        "colab": {
          "base_uri": "https://localhost:8080/"
        }
      },
      "execution_count": null,
      "outputs": [
        {
          "output_type": "stream",
          "name": "stdout",
          "text": [
            "Print 1\n",
            "Print 2\n",
            "Print 3\n"
          ]
        }
      ]
    },
    {
      "cell_type": "code",
      "source": [
        "lista = [8,4,2,5,5,8,1,0,0]\n",
        "lista2 = lista\n",
        "print(lista)\n",
        "valor = sorted(lista)\n",
        "print(valor)\n",
        "print(lista)\n",
        "lista2.sort()\n",
        "print(lista2)\n"
      ],
      "metadata": {
        "id": "WlZqtrOl4GzI",
        "outputId": "c766dead-51be-4c6c-c3eb-4290c64f53d5",
        "colab": {
          "base_uri": "https://localhost:8080/"
        }
      },
      "execution_count": null,
      "outputs": [
        {
          "output_type": "stream",
          "name": "stdout",
          "text": [
            "[8, 4, 2, 5, 5, 8, 1, 0, 0]\n",
            "[0, 0, 1, 2, 4, 5, 5, 8, 8]\n",
            "[8, 4, 2, 5, 5, 8, 1, 0, 0]\n",
            "[0, 0, 1, 2, 4, 5, 5, 8, 8]\n"
          ]
        }
      ]
    },
    {
      "cell_type": "code",
      "source": [
        "for i in range(1,20):\n",
        "  x = i\n",
        "  y = 15\n",
        "  if x < y:\n",
        "    print('%s x é menor' %(x))\n",
        "  elif x == y:\n",
        "    print('%s x é igual' %(x))\n",
        "    break\n",
        "  elif x > y:\n",
        "    print('x é maior')\n",
        "\n",
        "\n"
      ],
      "metadata": {
        "id": "iN9Vd4bu4LJ2",
        "outputId": "7115e048-78a7-473d-dcc4-782afdfd79b5",
        "colab": {
          "base_uri": "https://localhost:8080/"
        }
      },
      "execution_count": null,
      "outputs": [
        {
          "output_type": "stream",
          "name": "stdout",
          "text": [
            "1 x é menor\n",
            "2 x é menor\n",
            "3 x é menor\n",
            "4 x é menor\n",
            "5 x é menor\n",
            "6 x é menor\n",
            "7 x é menor\n",
            "8 x é menor\n",
            "9 x é menor\n",
            "10 x é menor\n",
            "11 x é menor\n",
            "12 x é menor\n",
            "13 x é menor\n",
            "14 x é menor\n",
            "15 x é igual\n"
          ]
        }
      ]
    },
    {
      "cell_type": "code",
      "source": [
        "for i in range(1,21):\n",
        "  x = i\n",
        "  y = 7\n",
        "  if x < y:\n",
        "    print('%s x é menor' %(x))\n",
        "  elif x == y:\n",
        "    print('%s x é igual' %(x))\n",
        "    continue\n",
        "  elif x > y:\n",
        "    print('%s x é maior' %(x))\n",
        "\n",
        "\n"
      ],
      "metadata": {
        "id": "W--SgeIh52vE",
        "outputId": "8dad29f8-aa20-4a16-ead2-819354b6b8ba",
        "colab": {
          "base_uri": "https://localhost:8080/"
        }
      },
      "execution_count": null,
      "outputs": [
        {
          "output_type": "stream",
          "name": "stdout",
          "text": [
            "1 x é menor\n",
            "2 x é menor\n",
            "3 x é menor\n",
            "4 x é menor\n",
            "5 x é menor\n",
            "6 x é menor\n",
            "7 x é igual\n",
            "8 x é maior\n",
            "9 x é maior\n",
            "10 x é maior\n",
            "11 x é maior\n",
            "12 x é maior\n",
            "13 x é maior\n",
            "14 x é maior\n",
            "15 x é maior\n",
            "16 x é maior\n",
            "17 x é maior\n",
            "18 x é maior\n",
            "19 x é maior\n",
            "20 x é maior\n"
          ]
        }
      ]
    },
    {
      "cell_type": "code",
      "source": [
        "def add(x):\n",
        "  b = x+1\n",
        "  return b\n",
        "\n",
        "add(2)"
      ],
      "metadata": {
        "id": "HinWtQlx7qOi",
        "outputId": "2cf372ca-f035-44a4-a187-290aa9e83034",
        "colab": {
          "base_uri": "https://localhost:8080/"
        }
      },
      "execution_count": null,
      "outputs": [
        {
          "output_type": "stream",
          "name": "stdout",
          "text": [
            "3\n"
          ]
        }
      ]
    },
    {
      "cell_type": "code",
      "source": [
        "def infos(nome='usuario', idade=0):\n",
        "  \"add some coments inside the functions\"\n",
        "  print(\"Olá, meu nome é %s e tenho %d anos\" % (nome, idade))\n",
        "\n",
        "infos('murilo', 30)\n",
        "infos(idade=30)\n",
        "infos('pedro')\n",
        "infos(nome='michele')\n",
        "\n",
        "help(infos)\n"
      ],
      "metadata": {
        "id": "lMa5zi-a87KV",
        "outputId": "a5cc74eb-845f-4602-f2ee-32e0a1c37a24",
        "colab": {
          "base_uri": "https://localhost:8080/"
        }
      },
      "execution_count": null,
      "outputs": [
        {
          "output_type": "stream",
          "name": "stdout",
          "text": [
            "Olá, meu nome é murilo e tenho 30 anos\n",
            "Olá, meu nome é usuario e tenho 30 anos\n",
            "Olá, meu nome é pedro e tenho 0 anos\n",
            "Olá, meu nome é michele e tenho 0 anos\n",
            "Help on function infos in module __main__:\n",
            "\n",
            "infos(nome='usuario', idade=0)\n",
            "    add some coments inside the functions\n",
            "\n"
          ]
        }
      ]
    },
    {
      "cell_type": "code",
      "source": [
        "def Nowork():\n",
        "  pass\n",
        "\n",
        "print(Nowork())"
      ],
      "metadata": {
        "id": "B-6QL6G8Ip_3",
        "outputId": "ee76c3b9-9ec2-4df5-db14-d377f1f00e61",
        "colab": {
          "base_uri": "https://localhost:8080/"
        }
      },
      "execution_count": null,
      "outputs": [
        {
          "output_type": "stream",
          "name": "stdout",
          "text": [
            "None\n"
          ]
        }
      ]
    },
    {
      "cell_type": "markdown",
      "source": [
        "if\n",
        "while\n",
        "for\n",
        "\n",
        "functions\n",
        "len()\n",
        "enumerate()\n",
        "append()"
      ],
      "metadata": {
        "id": "hhEpDzUHUbsQ"
      }
    },
    {
      "cell_type": "code",
      "source": [
        "for y in range(6):\n",
        "  print(y)\n",
        "\n",
        "lista = [1,2,3,4,5,6]\n",
        "\n",
        "for x in range(len(lista)):\n",
        "  print('posicao', x, 'elemento', lista[x])\n",
        "\n",
        "print('\\n')\n",
        "\n",
        "for b in enumerate(lista):\n",
        "  print(b)\n",
        "\n",
        "for c,d in enumerate(lista):\n",
        "  print('posicao',c)\n",
        "  print('elemento',d)"
      ],
      "metadata": {
        "id": "kQNylit6L31W"
      },
      "execution_count": null,
      "outputs": []
    },
    {
      "cell_type": "code",
      "source": [
        "def interativo(*names):\n",
        "  for x in names:\n",
        "    print(x)\n",
        "\n",
        "interativo('murilo','carla','samuel')"
      ],
      "metadata": {
        "id": "7suvarRfM6Er",
        "outputId": "ed5cd9ec-39c9-4b5c-b322-cc8636d5e0a0",
        "colab": {
          "base_uri": "https://localhost:8080/"
        }
      },
      "execution_count": null,
      "outputs": [
        {
          "output_type": "stream",
          "name": "stdout",
          "text": [
            "murilo\n",
            "carla\n",
            "samuel\n"
          ]
        }
      ]
    },
    {
      "cell_type": "code",
      "source": [
        "def interativo(*names):\n",
        "  for x in names:\n",
        "    print(x)\n",
        "\n",
        "interativo(20,20)"
      ],
      "metadata": {
        "id": "Bc163ZXND892",
        "outputId": "7b783db9-8d72-4511-8ce4-193c475a66c7",
        "colab": {
          "base_uri": "https://localhost:8080/"
        }
      },
      "execution_count": null,
      "outputs": [
        {
          "output_type": "stream",
          "name": "stdout",
          "text": [
            "20\n",
            "20\n"
          ]
        }
      ]
    },
    {
      "cell_type": "code",
      "source": [
        "def info(nome, idade, **kwargs):\n",
        "  print(\"Nome: \" + nome)\n",
        "  print(\"Idade: \" + str(idade))\n",
        "\n",
        "  print(\"\\nInformações adicionais:\\n\")\n",
        "\n",
        "  for parametro, valor in kwargs.items():\n",
        "    print(parametro + \": \" + str(valor))\n",
        "\n",
        "info('Murilo', 30, cidade='Vancouver', telefone='672 727 8005')\n"
      ],
      "metadata": {
        "id": "xf58wmCCZe43",
        "outputId": "6771c0d5-d5d0-4063-b590-90b9f2780c12",
        "colab": {
          "base_uri": "https://localhost:8080/"
        }
      },
      "execution_count": null,
      "outputs": [
        {
          "output_type": "stream",
          "name": "stdout",
          "text": [
            "Nome: Murilo\n",
            "Idade: 30\n",
            "\n",
            "Informações adicionais:\n",
            "\n",
            "cidade: Vancouver\n",
            "telefone: 672 727 8005\n"
          ]
        }
      ]
    },
    {
      "cell_type": "markdown",
      "source": [
        "Global Scope (outside) x Local Scope (inside the fucntions)"
      ],
      "metadata": {
        "id": "b716EFVjbTWR"
      }
    },
    {
      "cell_type": "code",
      "source": [
        "def AddDC(x):\n",
        "  x=x+\"DC\"\n",
        "  return(x)\n",
        "\n",
        "letter = 'MMF'\n",
        "new = AddDC(letter)\n",
        "\n",
        "print(new)\n",
        "\n",
        "def local():\n",
        "  a = 1 #local\n",
        "  return(a)\n",
        "\n",
        "a = 333 #global\n",
        "print(local())\n",
        "print(a)\n"
      ],
      "metadata": {
        "id": "J9sVXhgZaYjW",
        "outputId": "ab8b2c2d-d775-437e-a3de-5d639fc0d803",
        "colab": {
          "base_uri": "https://localhost:8080/"
        }
      },
      "execution_count": null,
      "outputs": [
        {
          "output_type": "stream",
          "name": "stdout",
          "text": [
            "MMFDC\n",
            "1\n",
            "333\n"
          ]
        }
      ]
    },
    {
      "cell_type": "code",
      "source": [
        "def local():\n",
        "  global a\n",
        "  a = 1\n",
        "  return(a)\n",
        "\n",
        "a = 3333\n",
        "\n",
        "print(local())\n",
        "print(a)\n",
        "\n",
        "\n",
        "a = 451\n",
        "\n",
        "print(a)"
      ],
      "metadata": {
        "id": "y2Azuw1Cg11z",
        "outputId": "16a215e4-ae8a-48a9-fa7b-be3b479b4db6",
        "colab": {
          "base_uri": "https://localhost:8080/"
        }
      },
      "execution_count": null,
      "outputs": [
        {
          "output_type": "stream",
          "name": "stdout",
          "text": [
            "1\n",
            "1\n",
            "451\n"
          ]
        }
      ]
    },
    {
      "cell_type": "markdown",
      "source": [
        "list, tuples, diccitonaries and set\n",
        "\n",
        "Mutable objects → Can be modified after creation.\n",
        "Immutable objects → Cannot be modified after creation.\n",
        "\n",
        "\n",
        "Tuple - Immutable, Ordered\n",
        "list Mutable, Ordered []\n",
        "Dictionary  - Mutable, Unordered {}\n",
        "Set - Mutable, Unordered\n",
        "\n",
        "dict.keys()\n",
        "dict.values()\n",
        "Mutable Immutable"
      ],
      "metadata": {
        "id": "x9HU310LPxOX"
      }
    },
    {
      "cell_type": "code",
      "source": [
        "dic = {\"Canada\": \"Ottawa\", \"Brazil\": \"Brasilia\"}\n",
        "print(dic)\n",
        "print(dic.keys())\n",
        "print(dic.values())\n",
        "\n",
        "print('\\n')\n"
      ],
      "metadata": {
        "id": "kD_duRAWPzD3",
        "outputId": "69d383bf-7fa2-4034-ad49-9bacc475bcc5",
        "colab": {
          "base_uri": "https://localhost:8080/"
        }
      },
      "execution_count": 8,
      "outputs": [
        {
          "output_type": "stream",
          "name": "stdout",
          "text": [
            "{'Canada': 'Ottawa', 'Brazil': 'Brasilia'}\n",
            "dict_keys(['Canada', 'Brazil'])\n",
            "dict_values(['Ottawa', 'Brasilia'])\n",
            "\n",
            "\n"
          ]
        }
      ]
    },
    {
      "cell_type": "markdown",
      "source": [
        "#ASSIGMENT 2025-01-29"
      ],
      "metadata": {
        "id": "BdgkvIQcW4UI"
      }
    },
    {
      "cell_type": "markdown",
      "source": [
        "Write a function in python to return the frequency of each number in list.\n",
        "\n",
        "numbers = [10,40,50,14,40,10]"
      ],
      "metadata": {
        "id": "_qfN-u6cW9iL"
      }
    },
    {
      "cell_type": "code",
      "source": [
        "numbers = [10,40,50,14,40,10]\n",
        "\n",
        "lenght = len(numbers) #total position list 6\n",
        "new_lista = set(numbers) #remove duplicatos 10,14,40,50\n",
        "total = 0 #variable to start\n",
        "\n",
        "for each in new_lista:\n",
        "  for i in range(0, lenght):\n",
        "    if each == numbers[i]:\n",
        "      total = total +1\n",
        "  print(each, total)\n",
        "  total = 0"
      ],
      "metadata": {
        "id": "HJvDrO1BWb2T",
        "outputId": "0a1de233-badc-443c-bb87-1760aec9cd4c",
        "colab": {
          "base_uri": "https://localhost:8080/"
        }
      },
      "execution_count": 43,
      "outputs": [
        {
          "output_type": "stream",
          "name": "stdout",
          "text": [
            "40 2\n",
            "10 2\n",
            "50 1\n",
            "14 1\n"
          ]
        }
      ]
    },
    {
      "cell_type": "code",
      "source": [
        "lista = [10,40,50,14,40,10]\n",
        "result = {}\n",
        "def countnumber(number):\n",
        "  remove = set(number)\n",
        "  for each in remove:\n",
        "    result.append(each)\n",
        "\n",
        "\n",
        "# {40:2, 10:2, 50:1, 14:1 }\n",
        "\n",
        "\n",
        "countnumber(lista)\n",
        "print(result)\n"
      ],
      "metadata": {
        "id": "rSTzqY4Eb7Ee",
        "outputId": "197a6394-6dd7-4d84-b805-6d06054a837a",
        "colab": {
          "base_uri": "https://localhost:8080/",
          "height": 327
        }
      },
      "execution_count": 42,
      "outputs": [
        {
          "output_type": "error",
          "ename": "AttributeError",
          "evalue": "'dict' object has no attribute 'append'",
          "traceback": [
            "\u001b[0;31m---------------------------------------------------------------------------\u001b[0m",
            "\u001b[0;31mAttributeError\u001b[0m                            Traceback (most recent call last)",
            "\u001b[0;32m<ipython-input-42-eb750c4c9f81>\u001b[0m in \u001b[0;36m<cell line: 0>\u001b[0;34m()\u001b[0m\n\u001b[1;32m     10\u001b[0m \u001b[0;34m\u001b[0m\u001b[0m\n\u001b[1;32m     11\u001b[0m \u001b[0;34m\u001b[0m\u001b[0m\n\u001b[0;32m---> 12\u001b[0;31m \u001b[0mcountnumber\u001b[0m\u001b[0;34m(\u001b[0m\u001b[0mlista\u001b[0m\u001b[0;34m)\u001b[0m\u001b[0;34m\u001b[0m\u001b[0;34m\u001b[0m\u001b[0m\n\u001b[0m\u001b[1;32m     13\u001b[0m \u001b[0mprint\u001b[0m\u001b[0;34m(\u001b[0m\u001b[0mresult\u001b[0m\u001b[0;34m)\u001b[0m\u001b[0;34m\u001b[0m\u001b[0;34m\u001b[0m\u001b[0m\n",
            "\u001b[0;32m<ipython-input-42-eb750c4c9f81>\u001b[0m in \u001b[0;36mcountnumber\u001b[0;34m(number)\u001b[0m\n\u001b[1;32m      4\u001b[0m   \u001b[0mremove\u001b[0m \u001b[0;34m=\u001b[0m \u001b[0mset\u001b[0m\u001b[0;34m(\u001b[0m\u001b[0mnumber\u001b[0m\u001b[0;34m)\u001b[0m\u001b[0;34m\u001b[0m\u001b[0;34m\u001b[0m\u001b[0m\n\u001b[1;32m      5\u001b[0m   \u001b[0;32mfor\u001b[0m \u001b[0meach\u001b[0m \u001b[0;32min\u001b[0m \u001b[0mremove\u001b[0m\u001b[0;34m:\u001b[0m\u001b[0;34m\u001b[0m\u001b[0;34m\u001b[0m\u001b[0m\n\u001b[0;32m----> 6\u001b[0;31m     \u001b[0mresult\u001b[0m\u001b[0;34m.\u001b[0m\u001b[0mappend\u001b[0m\u001b[0;34m(\u001b[0m\u001b[0meach\u001b[0m\u001b[0;34m)\u001b[0m\u001b[0;34m\u001b[0m\u001b[0;34m\u001b[0m\u001b[0m\n\u001b[0m\u001b[1;32m      7\u001b[0m \u001b[0;34m\u001b[0m\u001b[0m\n\u001b[1;32m      8\u001b[0m \u001b[0;34m\u001b[0m\u001b[0m\n",
            "\u001b[0;31mAttributeError\u001b[0m: 'dict' object has no attribute 'append'"
          ]
        }
      ]
    },
    {
      "cell_type": "code",
      "source": [
        "for each in new_lista:\n",
        "  print(each)"
      ],
      "metadata": {
        "id": "DqYanm-CbJSz",
        "outputId": "c785cc51-6499-4719-fbfd-e641f3259348",
        "colab": {
          "base_uri": "https://localhost:8080/"
        }
      },
      "execution_count": 30,
      "outputs": [
        {
          "output_type": "stream",
          "name": "stdout",
          "text": [
            "40\n",
            "10\n",
            "50\n",
            "14\n"
          ]
        }
      ]
    },
    {
      "cell_type": "code",
      "source": [
        "for i in range(0,6):\n",
        "  print(i)"
      ],
      "metadata": {
        "id": "yjMHGG3OZs7B",
        "outputId": "bc54d30a-ed81-4cd2-e4be-adc3bdad6cd5",
        "colab": {
          "base_uri": "https://localhost:8080/"
        }
      },
      "execution_count": 28,
      "outputs": [
        {
          "output_type": "stream",
          "name": "stdout",
          "text": [
            "0\n",
            "1\n",
            "2\n",
            "3\n",
            "4\n",
            "5\n"
          ]
        }
      ]
    }
  ]
}