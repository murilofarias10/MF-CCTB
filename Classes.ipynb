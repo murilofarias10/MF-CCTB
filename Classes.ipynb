{
  "nbformat": 4,
  "nbformat_minor": 0,
  "metadata": {
    "colab": {
      "provenance": [],
      "authorship_tag": "ABX9TyOsNZKdXmWiMWGe4/we8DaM",
      "include_colab_link": true
    },
    "kernelspec": {
      "name": "python3",
      "display_name": "Python 3"
    },
    "language_info": {
      "name": "python"
    }
  },
  "cells": [
    {
      "cell_type": "markdown",
      "metadata": {
        "id": "view-in-github",
        "colab_type": "text"
      },
      "source": [
        "<a href=\"https://colab.research.google.com/github/murilofarias10/MF-CCTB/blob/main/Classes.ipynb\" target=\"_parent\"><img src=\"https://colab.research.google.com/assets/colab-badge.svg\" alt=\"Open In Colab\"/></a>"
      ]
    },
    {
      "cell_type": "markdown",
      "source": [
        "**About Variables/Types:**\n",
        "\n",
        "1. Float\n",
        "2. Int\n",
        "3. Boolean / Bool\n",
        "4. String\n",
        "5. Array / List\n",
        "6. Date\n",
        "7. None\n",
        "\n",
        "we are creating:\n",
        "\n",
        "*   a list of objetcs OR\n",
        "*   an instance of types\n",
        "to check type()\n",
        "\n",
        "**String Methods**\n",
        "```\n",
        "upper() → Converts a string to uppercase.\n",
        "lower() → Converts a string to lowercase.\n",
        "capitalize() → Capitalizes the first letter\n",
        "strip() → Removes whitespace from the beginning and end\n",
        "replace(old, new) → Replaces a substring\n",
        "split(separator) → Splits a string into a list\n",
        "len() → Returns the length of a string\n",
        "count(substring) → Counts occurrences of a substring.\n",
        "find(substring) → Finds the position of a substring (-1 if not found)\n",
        "```\n",
        "\n",
        "**List Methods**\n",
        "```\n",
        "append(item) → Adds an item to the end of a list.\n",
        "extend(iterable) → Adds multiple elements to a list\n",
        "insert(index, item) → Inserts an item at a specific index\n",
        "remove(item) → Removes the first occurrence of an item\n",
        "pop(index) → Removes and returns an item (default is last)\n",
        "sort() → Sorts a list in ascending order.\n",
        "reverse() → Reverses the list order\n",
        "clear() → Removes all elements from a list\n",
        "\n",
        "lista = list(text)  # Convert string to a list of characters\n",
        "return \"\".join(lista)  # Convert list back to string\n",
        "```\n",
        "\n",
        "**Dictionary Methods**\n",
        "```\n",
        "keys() → Returns all keys\n",
        "values() → Returns all values\n",
        "set() → removes duplicate values and Converting a String to a Set\n",
        "items() → Returns key-value pairs\n",
        "update(dict) → Merges another dictionary.\n",
        "```\n",
        "\n",
        "**Set Methods**\n",
        "```\n",
        "add(item) → Adds an element to the set\n",
        "remove(item) → Removes an item, raises an error if not found\n",
        "discard(item) → Removes an item without error if not found\n",
        "union(set) → Combines two sets\n",
        "intersection(set) → Returns common elements\n",
        "difference(set) → Returns elements in a but not in b\n",
        "index(\"pop\") → Return the index position\n",
        "issubset() return true or false to check one in other\n",
        "X in LIST → to check if something is in the set\n",
        "LIST & LIST → to get the same elements in two sets\n",
        "```\n",
        "\n",
        "**File Handling Methods**\n",
        "```\n",
        "open() → Opens a file.\n",
        "read() → Reads the file content\n",
        "write() → Writes to a file\n",
        "```\n",
        "\n",
        "1. Tuple - Immutable, Ordered () // TUPLE NESTING (one inside other)\n",
        "2. list Mutable, Ordered []\n",
        "3. Dictionary  - Mutable, Unordered {}\n",
        "4. Set - Mutable, Unordered, Unic elements {}\n",
        "\n",
        "**Function and Classes**\n",
        "\n",
        "def __init__() special function\n",
        "\n",
        "*args → passados como uma lista\n",
        "\n",
        "**kwargs → passados como dicionarios\n",
        "\n",
        "Aliasing → in list when you are cloning some list not change the new one D = C[:]\n",
        "\n",
        "Class\n",
        "    |__ Instance Variables (Attributes)\n",
        "    |__ Methods\n",
        "    |\n",
        "    |__ Objects (Instances of the Class)\n",
        "          |__ Access Instance Variables\n",
        "          |__ Use Methods\n",
        "\n",
        "Objects we can intarage with another objects\n",
        "  Objectas have\n",
        "    State or behaviors\n",
        "\n",
        "\n",
        "**Reading Files with Open**\n",
        "\n",
        "File = open(\"/path.txt\",\"w\") W write, R read, A appending\n",
        "\n",
        "*   File1.name\n",
        "*   File1.mode\n",
        "*   File1.close()\n",
        "\n",
        "Or using WITH\n",
        "with open(\"/Path/rain.csv\", \"r\") as File3:\n",
        "    novo = file3.read()\n",
        "\n",
        "file.seek(0)# Move cursor back to the beginning\n",
        "\n",
        "Introduction to Object Oriented Programming\n",
        "\n",
        "* 1 Encapsulation\n",
        "* 2 Inheritance\n",
        "* 3 Abstraction\n",
        "* 4 Polymorphism (same name of objects but differents paramethers)\n",
        "\n",
        "How to define a class\n",
        "how to instantriate or acreate an object of a class\n",
        "how to add state (properties) and behavior (functions) to a class/object in some case user can modify the properties and some case no (link set amout of money in bank)\n",
        "\n",
        "Class Design - Governed by OOP Object Oriented Principles\n",
        "Functional Requirements -- Add, Sub, Multipli\n",
        "Non Functional Requirements -- Color, Display, Performance\n",
        "Reliable Software- It gives you desired functionality and correct response.\n",
        "\n",
        "for Desining a Class or Software is both functionality as well as non-funcitonal requirements metter\n",
        "\n",
        "You are sypposed to design a class related to a University Student or its associated classes:\n",
        "First, prepare a list of the state attributes/propties of these classe.\n",
        "And specify which property must be read only which is not read-only and why ?\n",
        "Also specifu whther the property is a single value or multi-value (list or single)\n",
        "Please avoid atribuites associated to person class (eg: height, eye-color)\n",
        "From the perspective of student not a person.\n",
        "\n",
        "https://www.geeksforgeeks.org/higher-order-functions-in-python/\n",
        "\n",
        "Takes another function as an argument\n",
        "Returns a function as a result"
      ],
      "metadata": {
        "id": "9ARCu01TYO-Q"
      }
    },
    {
      "cell_type": "markdown",
      "source": [
        "Methods:\n",
        "  Loguin(username, password):\n",
        "  Deposit(amout):\n",
        "    current_balance = current_balance + amout\n",
        "  Withdraw(amout):\n",
        "  current_balance = current_balance - amout\n",
        "  Transfer(amout, target_account):\n",
        "    current_balance = current_balance - amout\n",
        "\n",
        "User can deposit some amout to their banc account\n",
        "User can withdraw certain amout.\n",
        "User can Transfer Funds.\n",
        "Useer can check how much money do they gave ? User can check their current balance ?\n",
        "current_balance?? - it should be properly or method ?\n",
        "Should your application, give the user an option to set their the current balance ?\n",
        "Answeer is No\n",
        "current_balance?? it should be property or method?\n",
        "Property and User should not be allowed to set modify this property.deleter\n",
        "Read ONly property or attibute.\n",
        "\n",
        "\n",
        "courses TYPE LIST ONLY READ\n",
        "ID COURSES TYPE SINGLE ONLY READ\n",
        "Grades TYPE LIST ONLY READ\n",
        "Professors ID TYPE SINGLE ONLY READ\n",
        "Professors Name TYPE LIST ONLY READ\n",
        "fee TYPE SINGLE READ ONLY\n",
        "Class Room TYPE LIST ONLY READ\n",
        "Student ID TYPE SINGLE ONLY READ\n",
        "Student Name TYPE SINGLE MODIFY\n",
        "Country Origen TYPE SINGLE MODIFY\n",
        "Date of birth TYPE SINGLE MODIFY\n",
        "Email TYPE SINGLE MODIFY\n",
        "Adress TYPE SINGLE MODIGY\n",
        "Mobile Phone TYPE SINGLE MODIFY"
      ],
      "metadata": {
        "id": "iH4xp1rurAHJ"
      }
    },
    {
      "cell_type": "markdown",
      "source": [],
      "metadata": {
        "id": "5ortmgreg0En"
      }
    },
    {
      "cell_type": "code",
      "source": [
        "name = 'Tony'\n",
        "age = 20\n",
        "name = None\n",
        "print(name)"
      ],
      "metadata": {
        "id": "poH05hkvg1Ji",
        "outputId": "6884c5a1-f786-4717-bc74-dc03d9dd7be6",
        "colab": {
          "base_uri": "https://localhost:8080/"
        }
      },
      "execution_count": null,
      "outputs": [
        {
          "output_type": "stream",
          "name": "stdout",
          "text": [
            "None\n"
          ]
        }
      ]
    },
    {
      "cell_type": "code",
      "execution_count": null,
      "metadata": {
        "id": "rOjdaTGf99hr"
      },
      "outputs": [],
      "source": [
        "print('Hello, welcome')\n",
        "Name = input('Enter your name: ')\n",
        "Country = input('Enter your contry: ')\n",
        "School = input('Enter your school: ')\n",
        "Location = input('Enter the location of your school: ')\n",
        "print(\"\\n\")\n",
        "print(\"My name is: \" + Name + \", from: \" + Country + \", studying at: \" + School + \" in \" + Location)"
      ]
    },
    {
      "cell_type": "code",
      "source": [
        "FName = 'Murilo'\n",
        "LName = 'Murilox'\n",
        "\n",
        "if FName == LName:\n",
        "  print('Igual')\n",
        "elif len(FName) > len(LName):\n",
        "  print('Maior')\n",
        "else:\n",
        "  print('outro')\n"
      ],
      "metadata": {
        "colab": {
          "base_uri": "https://localhost:8080/"
        },
        "id": "L018D6GsUKhD",
        "outputId": "5ecdbaf3-9d8d-4b70-b8b0-fc6f728f5bd7"
      },
      "execution_count": null,
      "outputs": [
        {
          "output_type": "stream",
          "name": "stdout",
          "text": [
            "outro\n"
          ]
        }
      ]
    },
    {
      "cell_type": "code",
      "source": [
        "word = 'I live in Vancouver'\n",
        "lenght = 0\n",
        "for c in word:\n",
        "  lenght = lenght+1\n",
        "\n",
        "print(lenght)"
      ],
      "metadata": {
        "colab": {
          "base_uri": "https://localhost:8080/"
        },
        "id": "Rj8ODvwNT2V0",
        "outputId": "e0c05ffa-3eee-429c-b135-fa65d1eff650"
      },
      "execution_count": null,
      "outputs": [
        {
          "output_type": "stream",
          "name": "stdout",
          "text": [
            "19\n"
          ]
        }
      ]
    },
    {
      "cell_type": "code",
      "source": [
        "lista = ['A','B','C']\n",
        "\n",
        "for i in range(0,3):\n",
        "  print('position %s ' % (i))\n",
        "  print(lista[i])\n",
        "print('\\n')\n",
        "lista = ['A','B','C']\n",
        "\n",
        "for i in lista:\n",
        "  print(i)"
      ],
      "metadata": {
        "colab": {
          "base_uri": "https://localhost:8080/"
        },
        "id": "D5U3i0tLZ8wE",
        "outputId": "967167ee-470e-4eed-f33f-cfd2ea2f4d9e"
      },
      "execution_count": null,
      "outputs": [
        {
          "output_type": "stream",
          "name": "stdout",
          "text": [
            "position 0 \n",
            "A\n",
            "position 1 \n",
            "B\n",
            "position 2 \n",
            "C\n",
            "\n",
            "\n",
            "A\n",
            "B\n",
            "C\n"
          ]
        }
      ]
    },
    {
      "cell_type": "code",
      "source": [
        "x = 3+2*2\n",
        "print(x)"
      ],
      "metadata": {
        "id": "hDtlLPPsgnqY"
      },
      "execution_count": null,
      "outputs": []
    },
    {
      "cell_type": "code",
      "source": [
        "y = (3 + 2) * 2\n",
        "print(y)"
      ],
      "metadata": {
        "id": "hvRRRNdkgo00"
      },
      "execution_count": null,
      "outputs": []
    },
    {
      "cell_type": "code",
      "source": [
        "Genres=['rock', 'R&B', 'Soundtrack', 'R&B', 'soul', 'pop']\n",
        "for i in range(5):\n",
        "    print('O comprimento de: ' + (Genres[i]) + ' é: '+ str(len(Genres[i])))\n"
      ],
      "metadata": {
        "id": "RtYgk6ySq1tx",
        "outputId": "cae9402d-6341-47a6-f794-366091f68a6c",
        "colab": {
          "base_uri": "https://localhost:8080/"
        }
      },
      "execution_count": null,
      "outputs": [
        {
          "output_type": "stream",
          "name": "stdout",
          "text": [
            "O comprimento de: rock é: 4\n",
            "O comprimento de: R&B é: 3\n",
            "O comprimento de: Soundtrack é: 10\n",
            "O comprimento de: R&B é: 3\n",
            "O comprimento de: soul é: 4\n"
          ]
        }
      ]
    },
    {
      "cell_type": "code",
      "source": [
        "Genres=['rock', 'R&B', 'Soundtrack', 'R&B', 'soul', 'pop']\n",
        "for i in range(5):\n",
        "    print('O comprimento de: %s é: %s ' %((Genres[i]),(len(Genres[i]))))"
      ],
      "metadata": {
        "id": "L6QAzJ0bqiAC",
        "outputId": "49e82eb2-1a5a-4db6-f590-4ebc01c695b3",
        "colab": {
          "base_uri": "https://localhost:8080/"
        }
      },
      "execution_count": null,
      "outputs": [
        {
          "output_type": "stream",
          "name": "stdout",
          "text": [
            "O comprimento de: rock é: 4 \n",
            "O comprimento de: R&B é: 3 \n",
            "O comprimento de: Soundtrack é: 10 \n",
            "O comprimento de: R&B é: 3 \n",
            "O comprimento de: soul é: 4 \n"
          ]
        }
      ]
    },
    {
      "cell_type": "markdown",
      "source": [
        "Functions"
      ],
      "metadata": {
        "id": "j9uMIdPyGzTu"
      }
    },
    {
      "cell_type": "code",
      "source": [
        "def function():\n",
        "  print('Hello, world')\n",
        "\n",
        "function()"
      ],
      "metadata": {
        "id": "PL_cbXr9G1QI",
        "outputId": "d0c72f5c-81dc-481b-eff8-79850d452782",
        "colab": {
          "base_uri": "https://localhost:8080/"
        }
      },
      "execution_count": null,
      "outputs": [
        {
          "output_type": "stream",
          "name": "stdout",
          "text": [
            "Hello, world\n"
          ]
        }
      ]
    },
    {
      "cell_type": "code",
      "source": [
        "def function_name(message):\n",
        "  print(message)\n",
        "\n",
        "function_name('Print 1')\n",
        "function_name('Print 2')\n",
        "function_name('Print 3')"
      ],
      "metadata": {
        "id": "lmOK3mcWKLkI",
        "outputId": "463949e2-e1af-4bbb-a5b7-24b6fd99c766",
        "colab": {
          "base_uri": "https://localhost:8080/"
        }
      },
      "execution_count": null,
      "outputs": [
        {
          "output_type": "stream",
          "name": "stdout",
          "text": [
            "Print 1\n",
            "Print 2\n",
            "Print 3\n"
          ]
        }
      ]
    },
    {
      "cell_type": "code",
      "source": [
        "lista = [8,4,2,5,5,8,1,0,0]\n",
        "lista2 = lista\n",
        "print(lista)\n",
        "valor = sorted(lista)\n",
        "print(valor)\n",
        "print(lista)\n",
        "lista2.sort()\n",
        "print(lista2)\n"
      ],
      "metadata": {
        "id": "WlZqtrOl4GzI",
        "outputId": "c766dead-51be-4c6c-c3eb-4290c64f53d5",
        "colab": {
          "base_uri": "https://localhost:8080/"
        }
      },
      "execution_count": null,
      "outputs": [
        {
          "output_type": "stream",
          "name": "stdout",
          "text": [
            "[8, 4, 2, 5, 5, 8, 1, 0, 0]\n",
            "[0, 0, 1, 2, 4, 5, 5, 8, 8]\n",
            "[8, 4, 2, 5, 5, 8, 1, 0, 0]\n",
            "[0, 0, 1, 2, 4, 5, 5, 8, 8]\n"
          ]
        }
      ]
    },
    {
      "cell_type": "code",
      "source": [
        "for i in range(1,20):\n",
        "  x = i\n",
        "  y = 15\n",
        "  if x < y:\n",
        "    print('%s x é menor' %(x))\n",
        "  elif x == y:\n",
        "    print('%s x é igual' %(x))\n",
        "    break\n",
        "  elif x > y:\n",
        "    print('x é maior')\n",
        "\n",
        "\n"
      ],
      "metadata": {
        "id": "iN9Vd4bu4LJ2",
        "outputId": "7115e048-78a7-473d-dcc4-782afdfd79b5",
        "colab": {
          "base_uri": "https://localhost:8080/"
        }
      },
      "execution_count": null,
      "outputs": [
        {
          "output_type": "stream",
          "name": "stdout",
          "text": [
            "1 x é menor\n",
            "2 x é menor\n",
            "3 x é menor\n",
            "4 x é menor\n",
            "5 x é menor\n",
            "6 x é menor\n",
            "7 x é menor\n",
            "8 x é menor\n",
            "9 x é menor\n",
            "10 x é menor\n",
            "11 x é menor\n",
            "12 x é menor\n",
            "13 x é menor\n",
            "14 x é menor\n",
            "15 x é igual\n"
          ]
        }
      ]
    },
    {
      "cell_type": "code",
      "source": [
        "for i in range(1,21):\n",
        "  x = i\n",
        "  y = 7\n",
        "  if x < y:\n",
        "    print('%s x é menor' %(x))\n",
        "  elif x == y:\n",
        "    print('%s x é igual' %(x))\n",
        "    continue\n",
        "  elif x > y:\n",
        "    print('%s x é maior' %(x))\n",
        "\n",
        "\n"
      ],
      "metadata": {
        "id": "W--SgeIh52vE",
        "outputId": "8dad29f8-aa20-4a16-ead2-819354b6b8ba",
        "colab": {
          "base_uri": "https://localhost:8080/"
        }
      },
      "execution_count": null,
      "outputs": [
        {
          "output_type": "stream",
          "name": "stdout",
          "text": [
            "1 x é menor\n",
            "2 x é menor\n",
            "3 x é menor\n",
            "4 x é menor\n",
            "5 x é menor\n",
            "6 x é menor\n",
            "7 x é igual\n",
            "8 x é maior\n",
            "9 x é maior\n",
            "10 x é maior\n",
            "11 x é maior\n",
            "12 x é maior\n",
            "13 x é maior\n",
            "14 x é maior\n",
            "15 x é maior\n",
            "16 x é maior\n",
            "17 x é maior\n",
            "18 x é maior\n",
            "19 x é maior\n",
            "20 x é maior\n"
          ]
        }
      ]
    },
    {
      "cell_type": "code",
      "source": [
        "def add(x):\n",
        "  b = x+1\n",
        "  return b\n",
        "\n",
        "add(2)"
      ],
      "metadata": {
        "id": "HinWtQlx7qOi",
        "outputId": "2cf372ca-f035-44a4-a187-290aa9e83034",
        "colab": {
          "base_uri": "https://localhost:8080/"
        }
      },
      "execution_count": null,
      "outputs": [
        {
          "output_type": "stream",
          "name": "stdout",
          "text": [
            "3\n"
          ]
        }
      ]
    },
    {
      "cell_type": "code",
      "source": [
        "def infos(nome='usuario', idade=0):\n",
        "  \"add some coments inside the functions\"\n",
        "  print(\"Olá, meu nome é %s e tenho %d anos\" % (nome, idade))\n",
        "\n",
        "infos('murilo', 30)\n",
        "infos(idade=30)\n",
        "infos('pedro')\n",
        "infos(nome='michele')\n",
        "\n",
        "help(infos)\n"
      ],
      "metadata": {
        "id": "lMa5zi-a87KV",
        "outputId": "a5cc74eb-845f-4602-f2ee-32e0a1c37a24",
        "colab": {
          "base_uri": "https://localhost:8080/"
        }
      },
      "execution_count": null,
      "outputs": [
        {
          "output_type": "stream",
          "name": "stdout",
          "text": [
            "Olá, meu nome é murilo e tenho 30 anos\n",
            "Olá, meu nome é usuario e tenho 30 anos\n",
            "Olá, meu nome é pedro e tenho 0 anos\n",
            "Olá, meu nome é michele e tenho 0 anos\n",
            "Help on function infos in module __main__:\n",
            "\n",
            "infos(nome='usuario', idade=0)\n",
            "    add some coments inside the functions\n",
            "\n"
          ]
        }
      ]
    },
    {
      "cell_type": "code",
      "source": [
        "def Nowork():\n",
        "  pass\n",
        "\n",
        "print(Nowork())"
      ],
      "metadata": {
        "id": "B-6QL6G8Ip_3",
        "outputId": "ee76c3b9-9ec2-4df5-db14-d377f1f00e61",
        "colab": {
          "base_uri": "https://localhost:8080/"
        }
      },
      "execution_count": null,
      "outputs": [
        {
          "output_type": "stream",
          "name": "stdout",
          "text": [
            "None\n"
          ]
        }
      ]
    },
    {
      "cell_type": "markdown",
      "source": [
        "if\n",
        "while\n",
        "for\n",
        "\n",
        "functions\n",
        "len()\n",
        "enumerate()\n",
        "append()"
      ],
      "metadata": {
        "id": "hhEpDzUHUbsQ"
      }
    },
    {
      "cell_type": "code",
      "source": [
        "for y in range(6):\n",
        "  print(y)\n",
        "\n",
        "lista = [1,2,3,4,5,6]\n",
        "\n",
        "for x in range(len(lista)):\n",
        "  print('posicao', x, 'elemento', lista[x])\n",
        "\n",
        "print('\\n')\n",
        "\n",
        "for b in enumerate(lista):\n",
        "  print(b)\n",
        "\n",
        "for c,d in enumerate(lista):\n",
        "  print('posicao',c)\n",
        "  print('elemento',d)"
      ],
      "metadata": {
        "id": "kQNylit6L31W"
      },
      "execution_count": null,
      "outputs": []
    },
    {
      "cell_type": "code",
      "source": [
        "def interativo(*names):\n",
        "  for x in names:\n",
        "    print(x)\n",
        "\n",
        "interativo('murilo','carla','samuel')"
      ],
      "metadata": {
        "id": "7suvarRfM6Er",
        "outputId": "ed5cd9ec-39c9-4b5c-b322-cc8636d5e0a0",
        "colab": {
          "base_uri": "https://localhost:8080/"
        }
      },
      "execution_count": null,
      "outputs": [
        {
          "output_type": "stream",
          "name": "stdout",
          "text": [
            "murilo\n",
            "carla\n",
            "samuel\n"
          ]
        }
      ]
    },
    {
      "cell_type": "code",
      "source": [
        "# Write your code below and press Shift+Enter to execute\n",
        "\n",
        "squares = ['orange', 'orange', 'purple', 'blue ', 'orange', 'orange', 'xxxx', 'orange']\n",
        "\n",
        "new_squares = []\n",
        "i = 0\n",
        "while i < len(squares):\n",
        "    if squares[i] == 'orange':\n",
        "        new_squares.append(squares[i])\n",
        "        new_squares.append(i)\n",
        "    i= i+1\n",
        "print(new_squares)\n"
      ],
      "metadata": {
        "id": "3Ctsx7qWisg-",
        "outputId": "029c90bb-d899-4d43-8689-b64d59526141",
        "colab": {
          "base_uri": "https://localhost:8080/"
        }
      },
      "execution_count": null,
      "outputs": [
        {
          "output_type": "stream",
          "name": "stdout",
          "text": [
            "['orange', 0, 'orange', 1, 'orange', 4, 'orange', 5, 'orange', 7]\n"
          ]
        }
      ]
    },
    {
      "cell_type": "code",
      "source": [
        "# Write your code below and press Shift+Enter to execute\n",
        "Annie = 1996\n",
        "Jane = 1999\n",
        "\n",
        "if (Annie%4 == 0):\n",
        "    print('Annie was born in a leap year')\n",
        "elif (Jane%4 == 0):\n",
        "    print('Jane was born in a leap year')\n",
        "else:\n",
        "    print('Anyone was born in a leap year')\n"
      ],
      "metadata": {
        "id": "klc3bGDdh9Hn"
      },
      "execution_count": null,
      "outputs": []
    },
    {
      "cell_type": "code",
      "source": [
        "# Write your code below and press Shift+Enter to execute\n",
        "Age = 14\n",
        "if Age <= 9:\n",
        "    print('milk porridge')\n",
        "elif Age >=10 and Age <=14:\n",
        "    print('sandwich')\n",
        "else:\n",
        "    print('burger')\n"
      ],
      "metadata": {
        "id": "8oXgMbLZiDVf"
      },
      "execution_count": null,
      "outputs": []
    },
    {
      "cell_type": "code",
      "source": [
        "def interativo(*names):\n",
        "  for x in names:\n",
        "    print(x)\n",
        "\n",
        "interativo(20,20)"
      ],
      "metadata": {
        "id": "Bc163ZXND892",
        "outputId": "7b783db9-8d72-4511-8ce4-193c475a66c7",
        "colab": {
          "base_uri": "https://localhost:8080/"
        }
      },
      "execution_count": null,
      "outputs": [
        {
          "output_type": "stream",
          "name": "stdout",
          "text": [
            "20\n",
            "20\n"
          ]
        }
      ]
    },
    {
      "cell_type": "code",
      "source": [
        "def info(nome, idade, **DIF):\n",
        "  print(\"Nome: \" + nome)\n",
        "  print(\"Idade: \" + str(idade))\n",
        "\n",
        "  print(\"\\nInformações adicionais:\\n\")\n",
        "\n",
        "  for parametro, valor in DIF.items():\n",
        "    print(parametro + \": \" + valor)\n",
        "\n",
        "info('Murilo', 30, cidade='Vancouver', telefone='672 727 8005')\n"
      ],
      "metadata": {
        "id": "xf58wmCCZe43",
        "outputId": "57b91e15-3b63-4279-aa4e-6fbe4dc8a245",
        "colab": {
          "base_uri": "https://localhost:8080/"
        }
      },
      "execution_count": null,
      "outputs": [
        {
          "output_type": "stream",
          "name": "stdout",
          "text": [
            "Nome: Murilo\n",
            "Idade: 30\n",
            "\n",
            "Informações adicionais:\n",
            "\n",
            "cidade: Vancouver\n",
            "telefone: 672 727 8005\n"
          ]
        }
      ]
    },
    {
      "cell_type": "markdown",
      "source": [
        "Global Scope (outside) x Local Scope (inside the fucntions)"
      ],
      "metadata": {
        "id": "b716EFVjbTWR"
      }
    },
    {
      "cell_type": "code",
      "source": [
        "def AddDC(x):\n",
        "  x=x+\"DC\"\n",
        "  return(x)\n",
        "\n",
        "letter = 'MMF'\n",
        "new = AddDC(letter)\n",
        "\n",
        "print(new)\n",
        "\n",
        "def local():\n",
        "  a = 1 #local\n",
        "  return(a)\n",
        "\n",
        "a = 333 #global\n",
        "print(local())\n",
        "print(a)\n"
      ],
      "metadata": {
        "id": "J9sVXhgZaYjW",
        "outputId": "ab8b2c2d-d775-437e-a3de-5d639fc0d803",
        "colab": {
          "base_uri": "https://localhost:8080/"
        }
      },
      "execution_count": null,
      "outputs": [
        {
          "output_type": "stream",
          "name": "stdout",
          "text": [
            "MMFDC\n",
            "1\n",
            "333\n"
          ]
        }
      ]
    },
    {
      "cell_type": "code",
      "source": [
        "def local():\n",
        "  global a\n",
        "  a = 1\n",
        "  return(a)\n",
        "\n",
        "a = 3333\n",
        "\n",
        "print(local())\n",
        "print(a)\n",
        "\n",
        "\n",
        "a = 451\n",
        "\n",
        "print(a)"
      ],
      "metadata": {
        "id": "y2Azuw1Cg11z",
        "outputId": "16a215e4-ae8a-48a9-fa7b-be3b479b4db6",
        "colab": {
          "base_uri": "https://localhost:8080/"
        }
      },
      "execution_count": null,
      "outputs": [
        {
          "output_type": "stream",
          "name": "stdout",
          "text": [
            "1\n",
            "1\n",
            "451\n"
          ]
        }
      ]
    },
    {
      "cell_type": "markdown",
      "source": [
        "list, tuples, diccitonaries and set\n",
        "\n",
        "Mutable objects → Can be modified after creation.\n",
        "Immutable objects → Cannot be modified after creation.\n",
        "\n",
        "\n",
        "Tuple - Immutable, Ordered\n",
        "list Mutable, Ordered []\n",
        "Dictionary  - Mutable, Unordered {}\n",
        "Set - Mutable, Unordered\n",
        "\n",
        "dict.keys()\n",
        "dict.values()\n",
        "Mutable Immutable"
      ],
      "metadata": {
        "id": "x9HU310LPxOX"
      }
    },
    {
      "cell_type": "code",
      "source": [
        "dic = {\"Canada\": \"Ottawa\", \"Brazil\": \"Brasilia\"}\n",
        "print(dic)\n",
        "print(dic.keys())\n",
        "print(dic.values())\n",
        "\n",
        "print('\\n')\n"
      ],
      "metadata": {
        "colab": {
          "base_uri": "https://localhost:8080/"
        },
        "id": "kD_duRAWPzD3",
        "outputId": "69d383bf-7fa2-4034-ad49-9bacc475bcc5"
      },
      "execution_count": null,
      "outputs": [
        {
          "output_type": "stream",
          "name": "stdout",
          "text": [
            "{'Canada': 'Ottawa', 'Brazil': 'Brasilia'}\n",
            "dict_keys(['Canada', 'Brazil'])\n",
            "dict_values(['Ottawa', 'Brasilia'])\n",
            "\n",
            "\n"
          ]
        }
      ]
    },
    {
      "cell_type": "code",
      "source": [
        "D = {'a':0,'b':1,'c':2}\n",
        "D['c']\n"
      ],
      "metadata": {
        "id": "tIXLNdTLnDs8",
        "outputId": "eff008cc-c66c-4d54-e0a8-5bb908e91650",
        "colab": {
          "base_uri": "https://localhost:8080/"
        }
      },
      "execution_count": null,
      "outputs": [
        {
          "output_type": "execute_result",
          "data": {
            "text/plain": [
              "2"
            ]
          },
          "metadata": {},
          "execution_count": 20
        }
      ]
    },
    {
      "cell_type": "markdown",
      "source": [
        "#ASSIGMENT 2025-01-29"
      ],
      "metadata": {
        "id": "BdgkvIQcW4UI"
      }
    },
    {
      "cell_type": "markdown",
      "source": [
        "Write a function in python to return the frequency of each number in list.\n",
        "\n",
        "numbers = [10,40,50,14,40,10]"
      ],
      "metadata": {
        "id": "_qfN-u6cW9iL"
      }
    },
    {
      "cell_type": "code",
      "source": [
        "numbers = [10,40,50,14,40,10]\n",
        "\n",
        "lenght = len(numbers) #total position list 6\n",
        "new_lista = set(numbers) #remove duplicatos 10,14,40,50\n",
        "total = 0 #variable to start\n",
        "\n",
        "for each in new_lista:\n",
        "  for i in range(0, lenght):\n",
        "    if each == numbers[i]:\n",
        "      total = total +1\n",
        "  print(each, total)\n",
        "  total = 0"
      ],
      "metadata": {
        "colab": {
          "base_uri": "https://localhost:8080/"
        },
        "id": "HJvDrO1BWb2T",
        "outputId": "0a1de233-badc-443c-bb87-1760aec9cd4c"
      },
      "execution_count": null,
      "outputs": [
        {
          "output_type": "stream",
          "name": "stdout",
          "text": [
            "40 2\n",
            "10 2\n",
            "50 1\n",
            "14 1\n"
          ]
        }
      ]
    },
    {
      "cell_type": "code",
      "source": [
        "lista = [10,40,50,14,40,10]\n",
        "result = {}\n",
        "\n",
        "def countnumber(number):\n",
        "  remove_duplicates = set(number) #40,10,50,14\n",
        "  for i in remove_duplicates:\n",
        "    result[i] = number.count(i) #lista.count\n",
        "    #print(result)\n",
        "  return result\n",
        "\n",
        "countnumber(lista)\n"
      ],
      "metadata": {
        "colab": {
          "base_uri": "https://localhost:8080/"
        },
        "id": "rSTzqY4Eb7Ee",
        "outputId": "58ba8141-abd8-4263-c3ef-b25fc71f02cf"
      },
      "execution_count": null,
      "outputs": [
        {
          "output_type": "stream",
          "name": "stdout",
          "text": [
            "{40: 2}\n",
            "{40: 2, 10: 2}\n",
            "{40: 2, 10: 2, 50: 1}\n",
            "{40: 2, 10: 2, 50: 1, 14: 1}\n"
          ]
        },
        {
          "output_type": "execute_result",
          "data": {
            "text/plain": [
              "{40: 2, 10: 2, 50: 1, 14: 1}"
            ]
          },
          "metadata": {},
          "execution_count": 74
        }
      ]
    },
    {
      "cell_type": "code",
      "source": [
        "def func_count(text):\n",
        "  lista = text.split()\n",
        "  final = 0\n",
        "  for i in lista:\n",
        "    if i =='little':\n",
        "      final = final +1\n",
        "  return ('total of little words is:', final)\n",
        "\n",
        "func_count(\"\"\"Mary had a little lamb little lamb, little lamb Mary had a little lamb.\n",
        "Its fleece was white as snow And everywhere that Mary little went Mary went,\n",
        "Mary went Everywhere that Mary went The lamb little was little sure to go\"\"\")"
      ],
      "metadata": {
        "id": "5rdr-5OxkQuU",
        "outputId": "ba65194e-80ad-4ebe-91ea-1ae1b17145cf",
        "colab": {
          "base_uri": "https://localhost:8080/"
        }
      },
      "execution_count": null,
      "outputs": [
        {
          "output_type": "execute_result",
          "data": {
            "text/plain": [
              "('total of little words is:', 7)"
            ]
          },
          "metadata": {},
          "execution_count": 15
        }
      ]
    },
    {
      "cell_type": "code",
      "source": [
        "def factorial(n):\n",
        "  if n ==0:\n",
        "    return 1\n",
        "  return n * factorial(n-1)\n",
        "\n",
        "factorial(0)"
      ],
      "metadata": {
        "id": "ObyZyFcwgkV3",
        "outputId": "e0eaedcb-716d-4f19-cf2f-c68317c3f1cb",
        "colab": {
          "base_uri": "https://localhost:8080/"
        }
      },
      "execution_count": null,
      "outputs": [
        {
          "output_type": "execute_result",
          "data": {
            "text/plain": [
              "1"
            ]
          },
          "metadata": {},
          "execution_count": 51
        }
      ]
    },
    {
      "cell_type": "code",
      "source": [
        "murilo = 'murilo'\n",
        "for i in murilo:\n",
        "  print(i)\n",
        "\n",
        "print('\\n')\n",
        "print(murilo[-1])\n",
        "\n",
        "print(murilo[(len(murilo)*-1)])"
      ],
      "metadata": {
        "colab": {
          "base_uri": "https://localhost:8080/"
        },
        "id": "4dp7TpVmWGnz",
        "outputId": "87142235-74eb-492f-e5d5-47d6a4fb48b3"
      },
      "execution_count": null,
      "outputs": [
        {
          "output_type": "stream",
          "name": "stdout",
          "text": [
            "m\n",
            "u\n",
            "r\n",
            "i\n",
            "l\n",
            "o\n",
            "\n",
            "\n",
            "o\n",
            "m\n"
          ]
        }
      ]
    },
    {
      "cell_type": "code",
      "source": [
        "Numbers = \"0123456\"\n",
        "print(Numbers[::2])\n",
        "print(Numbers[0])\n",
        "print(Numbers[:2])\n",
        "print(Numbers[2:100])"
      ],
      "metadata": {
        "id": "sTL8ioPYvTXd",
        "outputId": "2cf6e2d4-25d8-4f4f-988e-93e4d48c9889",
        "colab": {
          "base_uri": "https://localhost:8080/"
        }
      },
      "execution_count": null,
      "outputs": [
        {
          "output_type": "stream",
          "name": "stdout",
          "text": [
            "0246\n",
            "0\n",
            "01\n",
            "23456\n"
          ]
        }
      ]
    },
    {
      "cell_type": "code",
      "source": [
        "3+2*2"
      ],
      "metadata": {
        "id": "KvcDQjoQxeHF",
        "outputId": "d0c98e96-f485-440b-b9c0-ba250f4dfaa3",
        "colab": {
          "base_uri": "https://localhost:8080/"
        }
      },
      "execution_count": null,
      "outputs": [
        {
          "output_type": "execute_result",
          "data": {
            "text/plain": [
              "7"
            ]
          },
          "metadata": {},
          "execution_count": 19
        }
      ]
    },
    {
      "cell_type": "markdown",
      "source": [
        "TUPLE NESTING"
      ],
      "metadata": {
        "id": "9KdnVjRvEtbo"
      }
    },
    {
      "cell_type": "code",
      "source": [
        "tuple = ('abc', 'def',('xx',0,'zzz',11,23), 'mur', 'far')\n",
        "\n",
        "print('The element %s is a tuple' % str(tuple))\n",
        "print('The element [2][4] is %s' % (tuple[2][4]))\n",
        "print('The element [4] is %s' % (tuple[4]))\n"
      ],
      "metadata": {
        "id": "YdQERCESCC3j",
        "outputId": "c45ed656-5065-401e-b93a-14d62de2b929",
        "colab": {
          "base_uri": "https://localhost:8080/"
        }
      },
      "execution_count": null,
      "outputs": [
        {
          "output_type": "stream",
          "name": "stdout",
          "text": [
            "The element ('abc', 'def', ('xx', 0, 'zzz', 11, 23), 'mur', 'far') is a tuple\n",
            "The element [2][4] is 23\n",
            "The element [4] is far\n"
          ]
        }
      ]
    },
    {
      "cell_type": "markdown",
      "source": [
        "Aliasing in list"
      ],
      "metadata": {
        "id": "eE28JkhqK-fG"
      }
    },
    {
      "cell_type": "code",
      "source": [
        "LIST = [1,2,3,'a','b','c']\n",
        "A = LIST\n",
        "B = LIST\n",
        "print(LIST)\n",
        "print(A)\n",
        "print(B)\n",
        "print('\\n')\n",
        "A[0] = 'number'\n",
        "print( LIST)\n",
        "print(A)\n",
        "print(B)"
      ],
      "metadata": {
        "id": "VgZIig_rK-LB",
        "outputId": "77aa235a-cd31-4727-e747-457e255d131b",
        "colab": {
          "base_uri": "https://localhost:8080/"
        }
      },
      "execution_count": null,
      "outputs": [
        {
          "output_type": "stream",
          "name": "stdout",
          "text": [
            "[1, 2, 3, 'a', 'b', 'c']\n",
            "[1, 2, 3, 'a', 'b', 'c']\n",
            "[1, 2, 3, 'a', 'b', 'c']\n",
            "\n",
            "\n",
            "['number', 2, 3, 'a', 'b', 'c']\n",
            "['number', 2, 3, 'a', 'b', 'c']\n",
            "['number', 2, 3, 'a', 'b', 'c']\n"
          ]
        }
      ]
    },
    {
      "cell_type": "code",
      "source": [
        "LIST2 = [1,2,3,'a','b','c']\n",
        "C = LIST2\n",
        "D = LIST2\n",
        "print('LISTA2 %s' % (LIST2))\n",
        "print('C %s' % (C))\n",
        "print('D %s' % (D))\n",
        "print('\\n cloning')\n",
        "D = C[:]\n",
        "C[0] = 'number'\n",
        "print('LISTA2 %s' % (LIST2))\n",
        "print('C %s' % (C))\n",
        "print('D %s' % (D))"
      ],
      "metadata": {
        "id": "VRuEKEPULyJf",
        "outputId": "9a3fbf92-8fbc-4533-9cc5-9acd56ba1a27",
        "colab": {
          "base_uri": "https://localhost:8080/"
        }
      },
      "execution_count": null,
      "outputs": [
        {
          "output_type": "stream",
          "name": "stdout",
          "text": [
            "LISTA2 [1, 2, 3, 'a', 'b', 'c']\n",
            "C [1, 2, 3, 'a', 'b', 'c']\n",
            "D [1, 2, 3, 'a', 'b', 'c']\n",
            "\n",
            " cloning\n",
            "LISTA2 ['number', 2, 3, 'a', 'b', 'c']\n",
            "C ['number', 2, 3, 'a', 'b', 'c']\n",
            "D [1, 2, 3, 'a', 'b', 'c']\n"
          ]
        }
      ]
    },
    {
      "cell_type": "code",
      "source": [
        "C_tuple = (-5,1,-3)\n",
        "\n",
        "order = sorted(C_tuple)\n",
        "print(order)"
      ],
      "metadata": {
        "id": "jYbmOVs0hpe0"
      },
      "execution_count": null,
      "outputs": []
    },
    {
      "cell_type": "code",
      "source": [
        "genres_tuple = (\"pop\", \"rock\", \"soul\", \"hard rock\", \"soft rock\", \\\n",
        "                \"R&B\", \"progressive rock\", \"disco\")\n",
        "\n",
        "# Write your code below and press Shift+Enter to execute\n",
        "total = 0\n",
        "for i in genres_tuple:\n",
        "    total = total +1\n",
        "    if i == \"disco\":\n",
        "        print('position is %s' %(total-1))\n",
        "\n",
        "print(genres_tuple)\n",
        "genres_tuple.index(\"disco\")"
      ],
      "metadata": {
        "id": "GPEW3DpShh1P"
      },
      "execution_count": null,
      "outputs": []
    },
    {
      "cell_type": "code",
      "source": [
        "def p(n):\n",
        "  if n == 0:\n",
        "    return\n",
        "  print(n)\n",
        "  p(n-1)\n",
        "\n",
        "p(3)"
      ],
      "metadata": {
        "id": "bq-zsp_xGR0g",
        "outputId": "36e3d4c9-499e-43a7-aa79-c2b04e38e367",
        "colab": {
          "base_uri": "https://localhost:8080/"
        }
      },
      "execution_count": null,
      "outputs": [
        {
          "output_type": "stream",
          "name": "stdout",
          "text": [
            "3\n",
            "2\n",
            "1\n"
          ]
        }
      ]
    },
    {
      "cell_type": "markdown",
      "source": [
        "RecursionError: maximum recursion depth exceed 996 more times lines"
      ],
      "metadata": {
        "id": "Bo5KwvY3MCtU"
      }
    },
    {
      "cell_type": "code",
      "source": [
        "#We want to print the next 10 number starting from the give number\n",
        "def next10numbers(n):\n",
        "  if n == n+10:\n",
        "    return\n",
        "  next10numbers(n+1)\n",
        "  print(n)\n",
        "\n",
        "\n",
        "next10numbers(15)"
      ],
      "metadata": {
        "id": "uJmPRocZLZMf"
      },
      "execution_count": null,
      "outputs": []
    },
    {
      "cell_type": "markdown",
      "source": [
        "Recursive aproach\n",
        "a function that calls itself from within\n",
        "\n",
        "iteratively (while or for loop) is not as intuitive as recursive appproach.\n",
        "\n",
        "or recursive  you can solve any problems"
      ],
      "metadata": {
        "id": "NG3Nd-cKMnZU"
      }
    },
    {
      "cell_type": "code",
      "source": [
        "def numbers(n, total=10):\n",
        "    if total == 0:\n",
        "        return\n",
        "    print(n)\n",
        "    numbers(n + 1, total - 1)\n",
        "\n",
        "numbers(10)"
      ],
      "metadata": {
        "id": "zk274l6kPzDC",
        "outputId": "d285eba2-4c77-426a-b930-23ade1371d24",
        "colab": {
          "base_uri": "https://localhost:8080/"
        }
      },
      "execution_count": null,
      "outputs": [
        {
          "output_type": "stream",
          "name": "stdout",
          "text": [
            "10\n",
            "11\n",
            "12\n",
            "13\n",
            "14\n",
            "15\n",
            "16\n",
            "17\n",
            "18\n",
            "19\n"
          ]
        }
      ]
    },
    {
      "cell_type": "markdown",
      "source": [
        "Functions with SET"
      ],
      "metadata": {
        "id": "S-Qi93B_d6rE"
      }
    },
    {
      "cell_type": "code",
      "source": [
        "lista = ['rap','house','electronic music', 'rap']\n",
        "novoset = set(lista)\n",
        "print(novoset)"
      ],
      "metadata": {
        "id": "iRNb3Plpd8ve"
      },
      "execution_count": null,
      "outputs": []
    },
    {
      "cell_type": "code",
      "source": [
        "listA = [1,2,2,1]\n",
        "listB = set([1,2,2,1])\n",
        "print(sum(listA) == sum(listB))\n",
        "print(\"the sum of A is:\", sum(listA))\n",
        "print(\"the sum of B is:\", sum(listB))"
      ],
      "metadata": {
        "id": "9AlUQCZneekP"
      },
      "execution_count": null,
      "outputs": []
    },
    {
      "cell_type": "code",
      "source": [
        "album_set1 = set([\"Thriller\", 'AC/DC', 'Back in Black'])\n",
        "album_set2 = set([ \"AC/DC\", \"Back in Black\", \"The Dark Side of the Moon\"])\n",
        "album_set3 = album_set1.union(album_set2)\n",
        "#AC/DC Back in Black The Dark Side of the Moon Thriller\n",
        "album_set3"
      ],
      "metadata": {
        "id": "7jB2UYQdfL5c"
      },
      "execution_count": null,
      "outputs": []
    },
    {
      "cell_type": "code",
      "source": [
        "# Write your code below and press Shift+Enter to execute\n",
        "album_set1 = set([\"Thriller\", 'AC/DC', 'Back in Black'])\n",
        "album_set2 = set([ \"AC/DC\", \"Back in Black\", \"The Dark Side of the Moon\"])\n",
        "album_set3 = album_set1.union(album_set2)\n",
        "#AC/DC, Back in Black, The Dark Side of the Moon, Thriller\n",
        "result = album_set1.issubset(album_set3)\n",
        "#AC/DC, Back in Black, Thriller\n",
        "print(result)\n",
        "result2 = album_set2.issubset(album_set3)\n",
        "print(result2)\n",
        "result3 = album_set3.issubset(album_set1)\n",
        "print(result3)"
      ],
      "metadata": {
        "id": "xEY1EyA-gG0t"
      },
      "execution_count": null,
      "outputs": []
    },
    {
      "cell_type": "markdown",
      "source": [
        "Create a Class"
      ],
      "metadata": {
        "id": "Eou3unaEsS7P"
      }
    },
    {
      "cell_type": "code",
      "source": [
        "class Circle():\n",
        "  def __init__(self, value, color):\n",
        "    self.radius = value;\n",
        "    self.color = color;\n",
        "\n",
        "  def add_radius(self, r):\n",
        "    self.radius = self.radius + r\n",
        "\n",
        "C1 = Circle(20, 'red')\n",
        "C1.add_radius(10)\n",
        "\n",
        "print(C1.radius)"
      ],
      "metadata": {
        "id": "V0UOBpp8uYWG",
        "outputId": "178a2e28-c472-418a-9ad4-47e67df78fea",
        "colab": {
          "base_uri": "https://localhost:8080/"
        }
      },
      "execution_count": null,
      "outputs": [
        {
          "output_type": "stream",
          "name": "stdout",
          "text": [
            "30\n"
          ]
        }
      ]
    },
    {
      "cell_type": "code",
      "source": [
        "class Car(object):\n",
        "    def __init__(self,make,model,color):\n",
        "        self.make=make;\n",
        "        self.model=model;\n",
        "        self.color=color;\n",
        "        self.owner_number=0\n",
        "    def car_info(self):\n",
        "        print(\"make: \",self.make)\n",
        "        print(\"model:\", self.model)\n",
        "        print(\"color:\",self.color)\n",
        "        print(\"number of owners:\",self.owner_number)\n",
        "    def sell(self):\n",
        "        self.owner_number=self.owner_number+1\n",
        "\n",
        "C1 = Car(\"BMW\", \"M3\", \"red\")\n",
        "C1.car_info()\n",
        "C1.sell()\n",
        "C1.car_info()\n",
        "C1.sell()\n",
        "C1.sell()\n",
        "C1.sell()\n",
        "C1.car_info()"
      ],
      "metadata": {
        "colab": {
          "base_uri": "https://localhost:8080/"
        },
        "id": "Xcoira9HfiRZ",
        "outputId": "d9c089c6-b870-4e86-b5b0-88f01b25072c"
      },
      "execution_count": null,
      "outputs": [
        {
          "output_type": "stream",
          "name": "stdout",
          "text": [
            "make:  BMW\n",
            "model: M3\n",
            "color: red\n",
            "number of owners: 0\n",
            "make:  BMW\n",
            "model: M3\n",
            "color: red\n",
            "number of owners: 1\n",
            "make:  BMW\n",
            "model: M3\n",
            "color: red\n",
            "number of owners: 4\n"
          ]
        }
      ]
    },
    {
      "cell_type": "code",
      "source": [
        "class vehicles():\n",
        "    def __init__(self, maxspeed, mileage, color='White'):\n",
        "        self.maxspeed = maxspeed\n",
        "        self.mileage = mileage\n",
        "        self.color = color\n",
        "    def print_info(self):\n",
        "        print('maxspeed:', self.maxspeed)\n",
        "        print('mileage:', self.mileage)\n",
        "        print('color', self.color)\n",
        "\n",
        "\n",
        "C1 = vehicles(240, 18)\n",
        "\n",
        "C1.print_info()"
      ],
      "metadata": {
        "colab": {
          "base_uri": "https://localhost:8080/"
        },
        "id": "M1RhRWAPftyH",
        "outputId": "e28184d7-a5eb-437d-f477-3883620fa6f6"
      },
      "execution_count": null,
      "outputs": [
        {
          "output_type": "stream",
          "name": "stdout",
          "text": [
            "maxspeed: 240\n",
            "mileage: 18\n",
            "color White\n"
          ]
        }
      ]
    },
    {
      "cell_type": "code",
      "source": [
        "class vehicles():\n",
        "    default_color = 'white'\n",
        "    def __init__(self, maxspeed, mileage):\n",
        "        self.maxspeed = maxspeed\n",
        "        self.mileage = mileage\n",
        "        self.seating_capacity = None\n",
        "\n",
        "    def NEW_seating_capacity(self,seating_capacity):\n",
        "        self.seating_capacity = seating_capacity\n",
        "\n",
        "    def print_info(self):\n",
        "        print('maxspeed:', self.maxspeed)\n",
        "        print('mileage:', self.mileage)\n",
        "        print('color: %s' % (self.default_color))\n",
        "        print('seating capacity:', self.seating_capacity)\n",
        "        print('\\n')\n",
        "\n",
        "\n",
        "Car1 = vehicles(200, 50000)\n",
        "Car1.NEW_seating_capacity(4)\n",
        "\n",
        "Car2 = vehicles(180, 75000)\n",
        "Car2.NEW_seating_capacity(2)\n",
        "\n",
        "\n",
        "Car1.print_info()\n",
        "Car2.print_info()"
      ],
      "metadata": {
        "id": "Q6EqWV6bjVb3",
        "outputId": "6bd2d1a6-655b-43c3-82dc-bd0181c41b6e",
        "colab": {
          "base_uri": "https://localhost:8080/"
        }
      },
      "execution_count": null,
      "outputs": [
        {
          "output_type": "stream",
          "name": "stdout",
          "text": [
            "maxspeed: 200\n",
            "mileage: 50000\n",
            "color: white\n",
            "seating capacity: 4\n",
            "\n",
            "\n",
            "maxspeed: 180\n",
            "mileage: 75000\n",
            "color: white\n",
            "seating capacity: 2\n",
            "\n",
            "\n"
          ]
        }
      ]
    },
    {
      "cell_type": "markdown",
      "source": [
        "Try Except"
      ],
      "metadata": {
        "id": "b8Oa7Ba3pipZ"
      }
    },
    {
      "cell_type": "code",
      "source": [
        "#ZeroDivisionError: division by zero\n",
        "1/0\n",
        "\n",
        "#NameError: name 'a' is not defined\n",
        "y = a + 5\n",
        "\n"
      ],
      "metadata": {
        "id": "p_sC5UVUnORP",
        "outputId": "9475e091-d4f6-4510-8cff-b5325fb9cef1",
        "colab": {
          "base_uri": "https://localhost:8080/",
          "height": 219
        }
      },
      "execution_count": null,
      "outputs": [
        {
          "output_type": "error",
          "ename": "ZeroDivisionError",
          "evalue": "division by zero",
          "traceback": [
            "\u001b[0;31m---------------------------------------------------------------------------\u001b[0m",
            "\u001b[0;31mZeroDivisionError\u001b[0m                         Traceback (most recent call last)",
            "\u001b[0;32m<ipython-input-52-10da240d0391>\u001b[0m in \u001b[0;36m<cell line: 0>\u001b[0;34m()\u001b[0m\n\u001b[1;32m      1\u001b[0m \u001b[0;31m#ZeroDivisionError: division by zero\u001b[0m\u001b[0;34m\u001b[0m\u001b[0;34m\u001b[0m\u001b[0m\n\u001b[0;32m----> 2\u001b[0;31m \u001b[0;36m1\u001b[0m\u001b[0;34m/\u001b[0m\u001b[0;36m0\u001b[0m\u001b[0;34m\u001b[0m\u001b[0;34m\u001b[0m\u001b[0m\n\u001b[0m\u001b[1;32m      3\u001b[0m \u001b[0;34m\u001b[0m\u001b[0m\n\u001b[1;32m      4\u001b[0m \u001b[0;31m#NameError: name 'a' is not defined\u001b[0m\u001b[0;34m\u001b[0m\u001b[0;34m\u001b[0m\u001b[0m\n\u001b[1;32m      5\u001b[0m \u001b[0my\u001b[0m \u001b[0;34m=\u001b[0m \u001b[0ma\u001b[0m \u001b[0;34m+\u001b[0m \u001b[0;36m5\u001b[0m\u001b[0;34m\u001b[0m\u001b[0;34m\u001b[0m\u001b[0m\n",
            "\u001b[0;31mZeroDivisionError\u001b[0m: division by zero"
          ]
        }
      ]
    },
    {
      "cell_type": "code",
      "source": [
        "#IndexError: list index out of range\n",
        "\n",
        "a = [1, 2, 3]\n",
        "print(a[10])"
      ],
      "metadata": {
        "id": "PtL4CKrKpm_o",
        "outputId": "e26be15b-8ba7-4a52-dead-e4d0f73154c7",
        "colab": {
          "base_uri": "https://localhost:8080/",
          "height": 182
        }
      },
      "execution_count": null,
      "outputs": [
        {
          "output_type": "error",
          "ename": "IndexError",
          "evalue": "list index out of range",
          "traceback": [
            "\u001b[0;31m---------------------------------------------------------------------------\u001b[0m",
            "\u001b[0;31mIndexError\u001b[0m                                Traceback (most recent call last)",
            "\u001b[0;32m<ipython-input-53-2492d4729f0f>\u001b[0m in \u001b[0;36m<cell line: 0>\u001b[0;34m()\u001b[0m\n\u001b[1;32m      2\u001b[0m \u001b[0;34m\u001b[0m\u001b[0m\n\u001b[1;32m      3\u001b[0m \u001b[0ma\u001b[0m \u001b[0;34m=\u001b[0m \u001b[0;34m[\u001b[0m\u001b[0;36m1\u001b[0m\u001b[0;34m,\u001b[0m \u001b[0;36m2\u001b[0m\u001b[0;34m,\u001b[0m \u001b[0;36m3\u001b[0m\u001b[0;34m]\u001b[0m\u001b[0;34m\u001b[0m\u001b[0;34m\u001b[0m\u001b[0m\n\u001b[0;32m----> 4\u001b[0;31m \u001b[0mprint\u001b[0m\u001b[0;34m(\u001b[0m\u001b[0ma\u001b[0m\u001b[0;34m[\u001b[0m\u001b[0;36m10\u001b[0m\u001b[0;34m]\u001b[0m\u001b[0;34m)\u001b[0m\u001b[0;34m\u001b[0m\u001b[0;34m\u001b[0m\u001b[0m\n\u001b[0m",
            "\u001b[0;31mIndexError\u001b[0m: list index out of range"
          ]
        }
      ]
    },
    {
      "cell_type": "code",
      "source": [
        "a = 1\n",
        "\n",
        "try:\n",
        "    b = int(input(\"Please enter a number to divide a\"))\n",
        "    result = a/b\n",
        "except ZeroDivisionError:\n",
        "    print(\"The number you provided cant divide 1 because it is 0\")\n",
        "except ValueError:\n",
        "    print(\"You did not provide a number\")\n",
        "except:\n",
        "    print(\"Something went wrong\")\n",
        "else:\n",
        "      print(\"Success result=\",result)\n",
        "\n"
      ],
      "metadata": {
        "id": "SQ9rw-3rqQa3",
        "outputId": "eb1a6cad-20b2-4d25-8f25-eda063b56f6c",
        "colab": {
          "base_uri": "https://localhost:8080/"
        }
      },
      "execution_count": null,
      "outputs": [
        {
          "output_type": "stream",
          "name": "stdout",
          "text": [
            "Please enter a number to divide a2\n",
            "Success result= 0.5\n"
          ]
        }
      ]
    },
    {
      "cell_type": "code",
      "source": [
        "import time\n",
        "for i in range(20):\n",
        "  if i ==15:\n",
        "    try:\n",
        "      #print(\"teste %s\", (i/0))\n",
        "      print(f\"{i} is error\")\n",
        "    except:\n",
        "      print(\"Something went wrong aaa\")\n",
        "  print(i)\n"
      ],
      "metadata": {
        "id": "SUvMn8kmO4A7",
        "outputId": "a208fc0c-c142-4bdb-b946-ea68e57ab674",
        "colab": {
          "base_uri": "https://localhost:8080/"
        }
      },
      "execution_count": null,
      "outputs": [
        {
          "output_type": "stream",
          "name": "stdout",
          "text": [
            "0\n",
            "1\n",
            "2\n",
            "3\n",
            "4\n",
            "5\n",
            "6\n",
            "7\n",
            "8\n",
            "9\n",
            "10\n",
            "11\n",
            "12\n",
            "13\n",
            "14\n",
            "15 is error\n",
            "15\n",
            "16\n",
            "17\n",
            "18\n",
            "19\n"
          ]
        }
      ]
    },
    {
      "cell_type": "code",
      "source": [
        "import time\n",
        "products = [12,24,20,25,30,50,25]\n",
        "for i in range(20):\n",
        "    try:\n",
        "      #print(\"teste %s\", (i/0))\n",
        "      print(f\"{i/products[i]}\")\n",
        "    except Exception as ERROR:\n",
        "      print(ERROR)\n",
        "\n",
        "\n"
      ],
      "metadata": {
        "id": "rU1fsH1mUnvg",
        "outputId": "2a1a6f7f-7000-4e41-8082-894d98b6ac86",
        "colab": {
          "base_uri": "https://localhost:8080/"
        }
      },
      "execution_count": null,
      "outputs": [
        {
          "output_type": "stream",
          "name": "stdout",
          "text": [
            "0.0\n",
            "0.041666666666666664\n",
            "0.1\n",
            "0.12\n",
            "0.13333333333333333\n",
            "0.1\n",
            "0.24\n",
            "list index out of range\n",
            "list index out of range\n",
            "list index out of range\n",
            "list index out of range\n",
            "list index out of range\n",
            "list index out of range\n",
            "list index out of range\n",
            "list index out of range\n",
            "list index out of range\n",
            "list index out of range\n",
            "list index out of range\n",
            "list index out of range\n",
            "list index out of range\n"
          ]
        }
      ]
    },
    {
      "cell_type": "code",
      "source": [
        "import time\n",
        "products = [12,24,20,25,30,50,25]\n",
        "for i in range(20):\n",
        "    try:\n",
        "      #print(\"teste %s\", (i/0))\n",
        "      print(f\"{i/products[i]}\")\n",
        "    except IndexError as e:\n",
        "      print(\"ERRO QUALQUER\")\n",
        "\n",
        "\n"
      ],
      "metadata": {
        "id": "UDoo7d1eVYW9",
        "outputId": "ad5b8ebf-73f7-43f2-a50b-59e02908c808",
        "colab": {
          "base_uri": "https://localhost:8080/"
        }
      },
      "execution_count": null,
      "outputs": [
        {
          "output_type": "stream",
          "name": "stdout",
          "text": [
            "0.0\n",
            "0.041666666666666664\n",
            "0.1\n",
            "0.12\n",
            "0.13333333333333333\n",
            "0.1\n",
            "0.24\n",
            "ERRO QUALQUER\n",
            "ERRO QUALQUER\n",
            "ERRO QUALQUER\n",
            "ERRO QUALQUER\n",
            "ERRO QUALQUER\n",
            "ERRO QUALQUER\n",
            "ERRO QUALQUER\n",
            "ERRO QUALQUER\n",
            "ERRO QUALQUER\n",
            "ERRO QUALQUER\n",
            "ERRO QUALQUER\n",
            "ERRO QUALQUER\n",
            "ERRO QUALQUER\n"
          ]
        }
      ]
    },
    {
      "cell_type": "markdown",
      "source": [
        "FILES"
      ],
      "metadata": {
        "id": "4s5qvIwE35P_"
      }
    },
    {
      "cell_type": "code",
      "source": [
        "with open(\"/content/sample_data/california_housing_train.csv\", \"r\") as File1:\n",
        "  new_file = File1.read() #to read the entire file"
      ],
      "metadata": {
        "id": "C8cjN6dxqaII"
      },
      "execution_count": null,
      "outputs": []
    },
    {
      "cell_type": "code",
      "source": [
        "with open(\"/content/sample_data/california_housing_train.csv\", \"r\") as File2:\n",
        "  file_two = File2.readlines() #to create a list\n",
        "  print(file_two)"
      ],
      "metadata": {
        "id": "MQrGeKIx7jfi"
      },
      "execution_count": null,
      "outputs": []
    },
    {
      "cell_type": "code",
      "source": [
        "with open(\"/content/sample_data/california_housing_train.csv\", \"r\") as File3:\n",
        "  total = 1\n",
        "  for i in File3:\n",
        "    print('Line %s is %s' %(total, i))\n",
        "    total +=1"
      ],
      "metadata": {
        "id": "djJlOWDP7jX-"
      },
      "execution_count": null,
      "outputs": []
    },
    {
      "cell_type": "code",
      "source": [
        "with open(\"/content/sample_data/california_housing_train.csv\", \"r\") as File4:\n",
        "  line_3 = File4.readlines(2) #to create a list\n",
        "  print(line_3)"
      ],
      "metadata": {
        "colab": {
          "base_uri": "https://localhost:8080/"
        },
        "id": "aOdabeYl7jO2",
        "outputId": "e15ac4d0-c765-4206-a707-ce60c8aec894"
      },
      "execution_count": null,
      "outputs": [
        {
          "output_type": "stream",
          "name": "stdout",
          "text": [
            "['\"longitude\",\"latitude\",\"housing_median_age\",\"total_rooms\",\"total_bedrooms\",\"population\",\"households\",\"median_income\",\"median_house_value\"\\n']\n"
          ]
        }
      ]
    },
    {
      "cell_type": "code",
      "source": [
        "File1.closed"
      ],
      "metadata": {
        "colab": {
          "base_uri": "https://localhost:8080/"
        },
        "id": "_-17HgAR7thS",
        "outputId": "afaa5282-5624-44cb-8fcb-1a0369227cfb"
      },
      "execution_count": null,
      "outputs": [
        {
          "output_type": "execute_result",
          "data": {
            "text/plain": [
              "True"
            ]
          },
          "metadata": {},
          "execution_count": 28
        }
      ]
    },
    {
      "cell_type": "code",
      "source": [
        "file.closed"
      ],
      "metadata": {
        "colab": {
          "base_uri": "https://localhost:8080/"
        },
        "id": "wT9F-wb3AC-B",
        "outputId": "950b6ef8-9f8a-49a3-8a7a-bb243be7352e"
      },
      "execution_count": null,
      "outputs": [
        {
          "output_type": "execute_result",
          "data": {
            "text/plain": [
              "False"
            ]
          },
          "metadata": {},
          "execution_count": 34
        }
      ]
    },
    {
      "cell_type": "code",
      "source": [
        "with open(\"/content/teste.csv\",\"w+\") as open_filex:\n",
        "  open_filex.write(\"This is line 3\\n\")\n",
        "  open_filex.write(\"This is line B\\n\")\n",
        "  open_filex.write(\"This is line c\\n\")\n",
        "  open_filex.seek(0)  # Move cursor back to the start\n",
        "  content2 = open_filex.read()\n",
        "\n",
        "print(content2)\n"
      ],
      "metadata": {
        "colab": {
          "base_uri": "https://localhost:8080/"
        },
        "id": "yIEqO3Co_1nI",
        "outputId": "5bea03f2-8ae7-41e8-de66-220272d72bc2"
      },
      "execution_count": null,
      "outputs": [
        {
          "output_type": "stream",
          "name": "stdout",
          "text": [
            "This is line 3\n",
            "This is line B\n",
            "This is line c\n",
            "\n"
          ]
        }
      ]
    },
    {
      "cell_type": "code",
      "source": [
        "file = open(\"/content/teste.csv\", \"r\")\n"
      ],
      "metadata": {
        "id": "IgvZ92sy_7hp"
      },
      "execution_count": null,
      "outputs": []
    },
    {
      "cell_type": "code",
      "source": [
        "file.mode"
      ],
      "metadata": {
        "colab": {
          "base_uri": "https://localhost:8080/",
          "height": 36
        },
        "id": "Nhh7MkwZDhs9",
        "outputId": "e0cb5f42-c016-481f-d17d-b4212b1ba4be"
      },
      "execution_count": null,
      "outputs": [
        {
          "output_type": "execute_result",
          "data": {
            "text/plain": [
              "'r'"
            ],
            "application/vnd.google.colaboratory.intrinsic+json": {
              "type": "string"
            }
          },
          "metadata": {},
          "execution_count": 85
        }
      ]
    },
    {
      "cell_type": "code",
      "source": [
        "file.read()\n"
      ],
      "metadata": {
        "colab": {
          "base_uri": "https://localhost:8080/",
          "height": 36
        },
        "id": "xPrbF7NBEDZk",
        "outputId": "f0e2419f-2c96-471a-82f5-fcd087796229"
      },
      "execution_count": null,
      "outputs": [
        {
          "output_type": "execute_result",
          "data": {
            "text/plain": [
              "'This is line 3\\nThis is line B\\nThis is line c\\n'"
            ],
            "application/vnd.google.colaboratory.intrinsic+json": {
              "type": "string"
            }
          },
          "metadata": {},
          "execution_count": 129
        }
      ]
    },
    {
      "cell_type": "code",
      "source": [
        "file.seek(0)# Move cursor back to the beginning"
      ],
      "metadata": {
        "colab": {
          "base_uri": "https://localhost:8080/"
        },
        "id": "tPWHLXzEFacR",
        "outputId": "601f069e-85e3-498b-c0e2-afc57dd60792"
      },
      "execution_count": null,
      "outputs": [
        {
          "output_type": "execute_result",
          "data": {
            "text/plain": [
              "0"
            ]
          },
          "metadata": {},
          "execution_count": 130
        }
      ]
    },
    {
      "cell_type": "code",
      "source": [
        "file.read(5)"
      ],
      "metadata": {
        "colab": {
          "base_uri": "https://localhost:8080/",
          "height": 36
        },
        "id": "nJJ9RExcEPOC",
        "outputId": "fea6c2ff-7959-4c1e-f470-e96728d57453"
      },
      "execution_count": null,
      "outputs": [
        {
          "output_type": "execute_result",
          "data": {
            "text/plain": [
              "''"
            ],
            "application/vnd.google.colaboratory.intrinsic+json": {
              "type": "string"
            }
          },
          "metadata": {},
          "execution_count": 127
        }
      ]
    },
    {
      "cell_type": "code",
      "source": [
        "#student.py\n",
        "class Student:\n",
        "  def __init__(self, student_id, name):\n",
        "    self.student_id = student_id\n",
        "    self.name = name\n",
        "\n",
        "  def student_details(self):\n",
        "    print(\"Student id is: %s and name is %s\" %(student_id, self.name))\n",
        "\n",
        "#library.py\n",
        "class Library:\n",
        "  def __init__(self, id, name):\n",
        "    self.id = id\n",
        "    self.name = name\n",
        "\n",
        "#MAIN.py\n",
        "    from Student import Student\n",
        "    from Library import Library\n",
        "\n",
        "#Objects can be statitics and behaviers\n",
        "\n",
        "                   #instances = Objects\n",
        "    first_test_student = Student (123, \"Test Student\")\n",
        "    first_library = Library(111, \"First Library\")\n",
        "\n",
        "    print(first_test_student.student_details())\n",
        "    print(first_library)\n",
        "    print(student(234, \"another student\").student_details())\n"
      ],
      "metadata": {
        "id": "otC4ioSuUEZU"
      },
      "execution_count": null,
      "outputs": []
    },
    {
      "cell_type": "code",
      "source": [
        "# higher order function returing a function\n",
        "def fun(n):\n",
        "    return lambda x: x * n\n",
        "\n",
        "# creating mutiliplier functions\n",
        "double = fun(2)\n",
        "triple = fun(3)\n",
        "\n",
        "print(double(5))\n",
        "print(triple(5))"
      ],
      "metadata": {
        "id": "xyQyM9w4Yo5A",
        "outputId": "3a3d6790-5a4d-4861-cfa3-34aa99d2e0ca",
        "colab": {
          "base_uri": "https://localhost:8080/"
        }
      },
      "execution_count": 1,
      "outputs": [
        {
          "output_type": "stream",
          "name": "stdout",
          "text": [
            "10\n",
            "15\n"
          ]
        }
      ]
    }
  ]
}