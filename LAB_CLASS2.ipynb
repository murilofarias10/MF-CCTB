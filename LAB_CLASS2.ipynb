{
  "nbformat": 4,
  "nbformat_minor": 0,
  "metadata": {
    "colab": {
      "provenance": [],
      "authorship_tag": "ABX9TyM8/g9MZzut49nF7yq7y2iS",
      "include_colab_link": true
    },
    "kernelspec": {
      "name": "python3",
      "display_name": "Python 3"
    },
    "language_info": {
      "name": "python"
    }
  },
  "cells": [
    {
      "cell_type": "markdown",
      "metadata": {
        "id": "view-in-github",
        "colab_type": "text"
      },
      "source": [
        "<a href=\"https://colab.research.google.com/github/murilofarias10/MF-CCTB/blob/main/LAB_CLASS2.ipynb\" target=\"_parent\"><img src=\"https://colab.research.google.com/assets/colab-badge.svg\" alt=\"Open In Colab\"/></a>"
      ]
    },
    {
      "cell_type": "markdown",
      "source": [
        "Murilo Farias\n",
        "Class 2025-02-03"
      ],
      "metadata": {
        "id": "3x5HeEbwRKjM"
      }
    },
    {
      "cell_type": "code",
      "execution_count": 5,
      "metadata": {
        "colab": {
          "base_uri": "https://localhost:8080/"
        },
        "id": "XkvuhO04RKD3",
        "outputId": "be013f30-032a-476e-947b-832d20312fef"
      },
      "outputs": [
        {
          "output_type": "stream",
          "name": "stdout",
          "text": [
            "25\n",
            "26\n",
            "27\n",
            "28\n",
            "29\n",
            "30\n",
            "31\n",
            "32\n",
            "33\n",
            "34\n"
          ]
        }
      ],
      "source": [
        "def numbers(n, total=10):\n",
        "    if total == 0:\n",
        "        return\n",
        "    print(n)\n",
        "    numbers(n + 1, total - 1)\n",
        "\n",
        "numbers(25)"
      ]
    }
  ]
}