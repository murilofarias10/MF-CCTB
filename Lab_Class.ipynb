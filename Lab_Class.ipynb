{
  "nbformat": 4,
  "nbformat_minor": 0,
  "metadata": {
    "colab": {
      "provenance": [],
      "authorship_tag": "ABX9TyMsP/KcDR4A1SW8/wOflQr9",
      "include_colab_link": true
    },
    "kernelspec": {
      "name": "python3",
      "display_name": "Python 3"
    },
    "language_info": {
      "name": "python"
    }
  },
  "cells": [
    {
      "cell_type": "markdown",
      "metadata": {
        "id": "view-in-github",
        "colab_type": "text"
      },
      "source": [
        "<a href=\"https://colab.research.google.com/github/murilofarias10/MF-CCTB/blob/main/Lab_Class.ipynb\" target=\"_parent\"><img src=\"https://colab.research.google.com/assets/colab-badge.svg\" alt=\"Open In Colab\"/></a>"
      ]
    },
    {
      "cell_type": "markdown",
      "source": [
        "#ASSIGMENT 2025-01-29\n",
        "Murilo Farias"
      ],
      "metadata": {
        "id": "148rhJHunr02"
      }
    },
    {
      "cell_type": "markdown",
      "source": [
        "Write a function in python to return the frequency of each number in list.\n",
        "\n",
        "numbers = [10,40,50,14,40,10]"
      ],
      "metadata": {
        "id": "3dCzvoAGnt4z"
      }
    },
    {
      "cell_type": "code",
      "source": [
        "lista = [10,40,50,14,40,10]\n",
        "result = {}\n",
        "\n",
        "def countnumber(number):\n",
        "  remove_duplicates = set(number) #40,10,50,14\n",
        "  for i in remove_duplicates:\n",
        "    result[i] = number.count(i) #lista.count\n",
        "    #print(result)\n",
        "  return result\n",
        "\n",
        "countnumber(lista)\n"
      ],
      "metadata": {
        "colab": {
          "base_uri": "https://localhost:8080/"
        },
        "id": "hhzoXyXxn0y4",
        "outputId": "248bc3a8-fd90-4f97-f824-593cbfd37193"
      },
      "execution_count": 2,
      "outputs": [
        {
          "output_type": "execute_result",
          "data": {
            "text/plain": [
              "{40: 2, 10: 2, 50: 1, 14: 1}"
            ]
          },
          "metadata": {},
          "execution_count": 2
        }
      ]
    },
    {
      "cell_type": "code",
      "execution_count": 1,
      "metadata": {
        "colab": {
          "base_uri": "https://localhost:8080/"
        },
        "id": "OeJlaoYPnrEG",
        "outputId": "d5de27b7-c35a-406a-cb53-64a0c0a85140"
      },
      "outputs": [
        {
          "output_type": "stream",
          "name": "stdout",
          "text": [
            "40 2\n",
            "10 2\n",
            "50 1\n",
            "14 1\n"
          ]
        }
      ],
      "source": [
        "numbers = [10,40,50,14,40,10]\n",
        "\n",
        "lenght = len(numbers) #total position list 6\n",
        "new_lista = set(numbers) #remove duplicatos 10,14,40,50\n",
        "total = 0 #variable to start\n",
        "\n",
        "for each in new_lista:\n",
        "  for i in range(0, lenght):\n",
        "    if each == numbers[i]:\n",
        "      total = total +1\n",
        "  print(each, total)\n",
        "  total = 0"
      ]
    }
  ]
}