{
  "nbformat": 4,
  "nbformat_minor": 0,
  "metadata": {
    "colab": {
      "provenance": [],
      "authorship_tag": "ABX9TyN/Aqqv938D7wAbGL96HGeL",
      "include_colab_link": true
    },
    "kernelspec": {
      "name": "python3",
      "display_name": "Python 3"
    },
    "language_info": {
      "name": "python"
    }
  },
  "cells": [
    {
      "cell_type": "markdown",
      "metadata": {
        "id": "view-in-github",
        "colab_type": "text"
      },
      "source": [
        "<a href=\"https://colab.research.google.com/github/murilofarias10/MF-CCTB/blob/main/LAB_Functions.ipynb\" target=\"_parent\"><img src=\"https://colab.research.google.com/assets/colab-badge.svg\" alt=\"Open In Colab\"/></a>"
      ]
    },
    {
      "cell_type": "markdown",
      "source": [
        "https://cognitiveclass.ai/courses/python-for-data-science#about-course"
      ],
      "metadata": {
        "id": "1WXh-VKFi91X"
      }
    },
    {
      "cell_type": "markdown",
      "source": [
        "Lab Functions"
      ],
      "metadata": {
        "id": "aXqqSfAMjRfD"
      }
    },
    {
      "cell_type": "markdown",
      "source": [
        "Complete the function  f  so that it returns the product of a and b. Use the next cell to test the function."
      ],
      "metadata": {
        "id": "mb8m8vRUkkEX"
      }
    },
    {
      "cell_type": "code",
      "execution_count": 2,
      "metadata": {
        "colab": {
          "base_uri": "https://localhost:8080/"
        },
        "id": "Y9Ot3hACixci",
        "outputId": "72628538-8509-4b37-da3a-cc6e15e0e5dc"
      },
      "outputs": [
        {
          "output_type": "execute_result",
          "data": {
            "text/plain": [
              "20"
            ]
          },
          "metadata": {},
          "execution_count": 2
        }
      ],
      "source": [
        "def f(a,b):\n",
        "    x = a*b\n",
        "    return x\n",
        "\n",
        "f(2,10)"
      ]
    },
    {
      "cell_type": "markdown",
      "source": [
        "Test the function using the next cell:"
      ],
      "metadata": {
        "id": "Z1BzilG-lKV2"
      }
    },
    {
      "cell_type": "code",
      "source": [
        "def function(a,b):\n",
        "  return a+b\n",
        "\n",
        "a=4\n",
        "b=2\n",
        "\n",
        "if a*b==function(a,b):\n",
        "    print(\"Correct.\")\n",
        "else:\n",
        "    print(\"Incorrect.\")"
      ],
      "metadata": {
        "colab": {
          "base_uri": "https://localhost:8080/"
        },
        "id": "cXtzoyPnlNkU",
        "outputId": "9abb1604-6da3-4007-ab75-16449dd1e3d7"
      },
      "execution_count": 25,
      "outputs": [
        {
          "output_type": "stream",
          "name": "stdout",
          "text": [
            "Incorrect.\n"
          ]
        }
      ]
    },
    {
      "cell_type": "markdown",
      "source": [
        "Complete the function g such that the input c is a list of integers and the output is the sum of all the elements in the list."
      ],
      "metadata": {
        "id": "uVDHonrqpdoH"
      }
    },
    {
      "cell_type": "code",
      "source": [
        "def g(c):\n",
        "    return sum(c)\n",
        "\n",
        "list = [1,3,5,4,0,0,5]\n",
        "\n",
        "g(list)"
      ],
      "metadata": {
        "colab": {
          "base_uri": "https://localhost:8080/"
        },
        "id": "9dAhXeqmpeOK",
        "outputId": "08bc7902-0868-4ab2-ce96-03de0828f203"
      },
      "execution_count": 28,
      "outputs": [
        {
          "output_type": "execute_result",
          "data": {
            "text/plain": [
              "18"
            ]
          },
          "metadata": {},
          "execution_count": 28
        }
      ]
    },
    {
      "cell_type": "markdown",
      "source": [
        "Test the function using the next cell:"
      ],
      "metadata": {
        "id": "RlGuQaDftAz4"
      }
    },
    {
      "cell_type": "code",
      "source": [
        "def new_function(c):\n",
        "    return sum(c)\n",
        "\n",
        "list1=[1,2,3,4,5]\n",
        "list2=[0,2,4,5]\n",
        "\n",
        "if sum(list2)==new_function(list1):\n",
        "    print(\"Correct.\")\n",
        "else:\n",
        "    print(\"Incorrect.\")"
      ],
      "metadata": {
        "colab": {
          "base_uri": "https://localhost:8080/"
        },
        "id": "pKWhvEFNtBg8",
        "outputId": "2d256f62-3345-4427-f348-296f959b138b"
      },
      "execution_count": 34,
      "outputs": [
        {
          "output_type": "stream",
          "name": "stdout",
          "text": [
            "Incorrect.\n"
          ]
        }
      ]
    },
    {
      "cell_type": "code",
      "source": [
        "def new_function(c):\n",
        "    return sum(c)\n",
        "\n",
        "list_of_clusters = [[1, 2, 3, 4, 5], [0, 2, 4, 5]]\n",
        "\n",
        "if sum(list_of_clusters[0]) == new_function(list_of_clusters[1]):\n",
        "    print(\"Correct.\")\n",
        "else:\n",
        "    print(\"Incorrect.\")\n",
        "\n",
        "if sum(list_of_clusters[0]) == new_function(list_of_clusters[0]):\n",
        "    print(\"Correct.\")\n",
        "else:\n",
        "    print(\"Incorrect.\")\n"
      ],
      "metadata": {
        "colab": {
          "base_uri": "https://localhost:8080/"
        },
        "id": "CC0IJW_1uVZO",
        "outputId": "47b61d19-05fc-4c04-97fd-808d622606bf"
      },
      "execution_count": 38,
      "outputs": [
        {
          "output_type": "stream",
          "name": "stdout",
          "text": [
            "Incorrect.\n",
            "Correct.\n"
          ]
        }
      ]
    },
    {
      "cell_type": "markdown",
      "source": [
        "Come up with a function that divides the first input by the second input:"
      ],
      "metadata": {
        "id": "thaj6HcnvG3W"
      }
    },
    {
      "cell_type": "code",
      "source": [
        "def calculate(a,c):\n",
        "  return(a/c)\n",
        "\n",
        "calculate(2,1)\n"
      ],
      "metadata": {
        "colab": {
          "base_uri": "https://localhost:8080/"
        },
        "id": "a9ulmsUWvHcJ",
        "outputId": "29ab28a2-558b-4d64-8bc5-54fb95fd608a"
      },
      "execution_count": 44,
      "outputs": [
        {
          "output_type": "execute_result",
          "data": {
            "text/plain": [
              "2.0"
            ]
          },
          "metadata": {},
          "execution_count": 44
        }
      ]
    },
    {
      "cell_type": "markdown",
      "source": [
        "Use the function con for the following question."
      ],
      "metadata": {
        "id": "tYCeAwlfvqco"
      }
    },
    {
      "cell_type": "code",
      "source": [
        "def con(a, b):\n",
        "    return(a + b)\n",
        "\n",
        "con(10,10)"
      ],
      "metadata": {
        "colab": {
          "base_uri": "https://localhost:8080/"
        },
        "id": "PrFuI-1pvrHW",
        "outputId": "d53f9c55-19bf-4553-cb1c-f846cc628305"
      },
      "execution_count": 45,
      "outputs": [
        {
          "output_type": "execute_result",
          "data": {
            "text/plain": [
              "20"
            ]
          },
          "metadata": {},
          "execution_count": 45
        }
      ]
    },
    {
      "cell_type": "code",
      "source": [
        "def con(a, b):\n",
        "  return(a + b)\n",
        "\n",
        "con('10','string')"
      ],
      "metadata": {
        "colab": {
          "base_uri": "https://localhost:8080/",
          "height": 36
        },
        "id": "PmsK2aZ4wmIW",
        "outputId": "8ede5b3a-d4bc-4178-ef1c-330572b0a99e"
      },
      "execution_count": 50,
      "outputs": [
        {
          "output_type": "execute_result",
          "data": {
            "text/plain": [
              "'10string'"
            ],
            "application/vnd.google.colaboratory.intrinsic+json": {
              "type": "string"
            }
          },
          "metadata": {},
          "execution_count": 50
        }
      ]
    },
    {
      "cell_type": "code",
      "source": [
        "def con(a, b):\n",
        "  a = str(a)\n",
        "  return(a + b)\n",
        "\n",
        "con(10,'string')"
      ],
      "metadata": {
        "colab": {
          "base_uri": "https://localhost:8080/",
          "height": 36
        },
        "id": "Ct904jSlwUhs",
        "outputId": "0890ec15-9845-4e94-dfc9-bf7bbdef6e9d"
      },
      "execution_count": 49,
      "outputs": [
        {
          "output_type": "execute_result",
          "data": {
            "text/plain": [
              "'10string'"
            ],
            "application/vnd.google.colaboratory.intrinsic+json": {
              "type": "string"
            }
          },
          "metadata": {},
          "execution_count": 49
        }
      ]
    },
    {
      "cell_type": "markdown",
      "source": [
        "Can the con function we defined before be used to concatenate lists or tuples?"
      ],
      "metadata": {
        "id": "gEDNRvjMwxnj"
      }
    },
    {
      "cell_type": "code",
      "source": [
        "def con(a, b):\n",
        "    return(a + b)\n",
        "list1 = [1,2,3]\n",
        "list2 = [3,3,4]\n",
        "\n",
        "con(list1, list2)"
      ],
      "metadata": {
        "colab": {
          "base_uri": "https://localhost:8080/"
        },
        "id": "Sd4cy8bAwyMG",
        "outputId": "8bcc0395-2316-4a3f-9bc8-20e067b5a848"
      },
      "execution_count": 51,
      "outputs": [
        {
          "output_type": "execute_result",
          "data": {
            "text/plain": [
              "[1, 2, 3, 3, 3, 4]"
            ]
          },
          "metadata": {},
          "execution_count": 51
        }
      ]
    },
    {
      "cell_type": "code",
      "source": [
        "def con(a, b):\n",
        "    return(a + b)\n",
        "\n",
        "con([0,0,'abc', 'd',0,'xxx'], [5,5,4])"
      ],
      "metadata": {
        "colab": {
          "base_uri": "https://localhost:8080/"
        },
        "id": "F2swyXnWxPzg",
        "outputId": "865f529b-16d1-4e8e-daa5-18286677c113"
      },
      "execution_count": 53,
      "outputs": [
        {
          "output_type": "execute_result",
          "data": {
            "text/plain": [
              "[0, 0, 'abc', 'd', 0, 'xxx', 5, 5, 4]"
            ]
          },
          "metadata": {},
          "execution_count": 53
        }
      ]
    },
    {
      "cell_type": "markdown",
      "source": [
        "Write a function code to find total count of word little in the given string: \"Mary had a little lamb Little lamb, little lamb Mary had a little lamb.Its fleece was white as snow And everywhere that Mary went Mary went, Mary went Everywhere that Mary went The lamb was sure to go\"**"
      ],
      "metadata": {
        "id": "BfJh8_NWw_GA"
      }
    },
    {
      "cell_type": "code",
      "source": [
        "p = 'Murilo'\n",
        "print(len(p))"
      ],
      "metadata": {
        "colab": {
          "base_uri": "https://localhost:8080/"
        },
        "id": "GBmoJjOuw_-n",
        "outputId": "0a0edd06-34e9-4ef4-bfca-9506f0b6244d"
      },
      "execution_count": 54,
      "outputs": [
        {
          "output_type": "stream",
          "name": "stdout",
          "text": [
            "6\n"
          ]
        }
      ]
    },
    {
      "cell_type": "code",
      "source": [
        "\n",
        "text = \"\"\"Mary had a little lamb Little lamb, little lamb Mary had a little lamb.\n",
        "Its fleece was white as snow And everywhere that Mary went Mary went,\n",
        "Mary went Everywhere that Mary went The lamb was sure to go\"\"\"\n",
        "\n",
        "result = text.split()\n",
        "final = 0\n",
        "\n",
        "for i in result:\n",
        "  if i == 'Little' or i=='little':\n",
        "    final = final+1\n",
        "  else:\n",
        "    continue\n",
        "\n",
        "print('total of little words is:', final)"
      ],
      "metadata": {
        "colab": {
          "base_uri": "https://localhost:8080/"
        },
        "id": "n2f0BbUmz__I",
        "outputId": "e6c28b2b-8a07-4f49-fa19-9cbee7496cff"
      },
      "execution_count": 90,
      "outputs": [
        {
          "output_type": "stream",
          "name": "stdout",
          "text": [
            "total of little words is: 4\n"
          ]
        }
      ]
    },
    {
      "cell_type": "code",
      "source": [
        "\n",
        "text = \"\"\"Mary had a little lamb Little lamb, little lamb Mary had a little lamb.\n",
        "Its fleece was white as snow And everywhere that Mary went Mary went,\n",
        "Mary went Everywhere that Mary went The lamb was sure to go\"\"\"\n",
        "\n",
        "result = text.split()\n",
        "final = 0\n",
        "\n",
        "for i in result:\n",
        "  if i == 'little':\n",
        "    final = final+1\n",
        "  else:\n",
        "    continue\n",
        "\n",
        "print('total of little words is:', final)"
      ],
      "metadata": {
        "colab": {
          "base_uri": "https://localhost:8080/"
        },
        "id": "HAovOT464J0b",
        "outputId": "9c7d1aa6-5aaf-4ca3-a041-a345c4055c0b"
      },
      "execution_count": 93,
      "outputs": [
        {
          "output_type": "stream",
          "name": "stdout",
          "text": [
            "total of little words is: 3\n"
          ]
        }
      ]
    },
    {
      "cell_type": "code",
      "source": [
        "\n",
        "def func_count(text):\n",
        "  lista = text.split()\n",
        "  final = 0\n",
        "  for i in lista:\n",
        "    if i =='little':\n",
        "      final = final +1\n",
        "    else:\n",
        "      continue\n",
        "  return ('total of little words is:', final)\n",
        "\n",
        "func_count(\"\"\"Mary had a little lamb Little lamb, little lamb Mary had a little lamb.\n",
        "Its fleece was white as snow And everywhere that Mary went Mary went,\n",
        "Mary went Everywhere that Mary went The lamb was sure to go\"\"\")"
      ],
      "metadata": {
        "colab": {
          "base_uri": "https://localhost:8080/"
        },
        "id": "hffARDU-4V1z",
        "outputId": "75d59498-8ac4-4187-827f-5ba9d082b625"
      },
      "execution_count": 99,
      "outputs": [
        {
          "output_type": "execute_result",
          "data": {
            "text/plain": [
              "('total of little words is:', 3)"
            ]
          },
          "metadata": {},
          "execution_count": 99
        }
      ]
    },
    {
      "cell_type": "code",
      "source": [
        "def freq(string,passedkey):\n",
        "\n",
        "    #step1: A list variable is declared and initialized to an empty list.\n",
        "    words = []\n",
        "\n",
        "    #step2: Break the string into list of words\n",
        "    words = string.split() # or string.lower().split()\n",
        "\n",
        "    #step3: Declare a dictionary\n",
        "    Dict = {}\n",
        "\n",
        "    #step4: Use for loop to iterate words and values to the dictionary\n",
        "    for key in words:\n",
        "        if(key == passedkey):\n",
        "            Dict[key] = words.count(key)\n",
        "    #step5: Print the dictionary\n",
        "    print(\"Total Count:\",Dict)\n",
        "\n",
        "#step6: Call function and pass string in it\n",
        "freq(\"Mary had a little lamb Little lamb, little lamb Mary had a little lamb.Its fleece was white as snow And everywhere that Mary went Mary went, Mary went \\\n",
        "Everywhere that Mary went The lamb was sure to go\",\"little\")"
      ],
      "metadata": {
        "colab": {
          "base_uri": "https://localhost:8080/"
        },
        "id": "-x2kiTDY4EN1",
        "outputId": "b68b7d09-b622-47d0-e3f3-214c31ff16e2"
      },
      "execution_count": 91,
      "outputs": [
        {
          "output_type": "stream",
          "name": "stdout",
          "text": [
            "Total Count: {'little': 3}\n"
          ]
        }
      ]
    }
  ]
}